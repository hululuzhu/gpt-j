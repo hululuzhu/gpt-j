{
  "nbformat": 4,
  "nbformat_minor": 0,
  "metadata": {
    "colab": {
      "provenance": [],
      "machine_shape": "hm",
      "authorship_tag": "ABX9TyNLxr7gj5UuV87rUwEH+1fr",
      "include_colab_link": true
    },
    "kernelspec": {
      "name": "python3",
      "display_name": "Python 3"
    },
    "language_info": {
      "name": "python"
    },
    "accelerator": "GPU",
    "gpuClass": "premium",
    "widgets": {
      "application/vnd.jupyter.widget-state+json": {
        "866e3257045f4493889dd266462681f3": {
          "model_module": "@jupyter-widgets/controls",
          "model_name": "HBoxModel",
          "model_module_version": "1.5.0",
          "state": {
            "_dom_classes": [],
            "_model_module": "@jupyter-widgets/controls",
            "_model_module_version": "1.5.0",
            "_model_name": "HBoxModel",
            "_view_count": null,
            "_view_module": "@jupyter-widgets/controls",
            "_view_module_version": "1.5.0",
            "_view_name": "HBoxView",
            "box_style": "",
            "children": [
              "IPY_MODEL_084e935ea9ca485395231cd90d916998",
              "IPY_MODEL_49f440fc4026475080a8223186ef9f5c",
              "IPY_MODEL_886a0ea8d4d44ac1a5eaf17bcc04bb7d"
            ],
            "layout": "IPY_MODEL_5a7d3526463947498d438218443e61a5"
          }
        },
        "084e935ea9ca485395231cd90d916998": {
          "model_module": "@jupyter-widgets/controls",
          "model_name": "HTMLModel",
          "model_module_version": "1.5.0",
          "state": {
            "_dom_classes": [],
            "_model_module": "@jupyter-widgets/controls",
            "_model_module_version": "1.5.0",
            "_model_name": "HTMLModel",
            "_view_count": null,
            "_view_module": "@jupyter-widgets/controls",
            "_view_module_version": "1.5.0",
            "_view_name": "HTMLView",
            "description": "",
            "description_tooltip": null,
            "layout": "IPY_MODEL_2052e0b7930e4f6c9127f2ac220c31e8",
            "placeholder": "​",
            "style": "IPY_MODEL_27dbddbb66a0430fb26b31333426c1a2",
            "value": "Downloading (…)lve/main/config.json: 100%"
          }
        },
        "49f440fc4026475080a8223186ef9f5c": {
          "model_module": "@jupyter-widgets/controls",
          "model_name": "FloatProgressModel",
          "model_module_version": "1.5.0",
          "state": {
            "_dom_classes": [],
            "_model_module": "@jupyter-widgets/controls",
            "_model_module_version": "1.5.0",
            "_model_name": "FloatProgressModel",
            "_view_count": null,
            "_view_module": "@jupyter-widgets/controls",
            "_view_module_version": "1.5.0",
            "_view_name": "ProgressView",
            "bar_style": "success",
            "description": "",
            "description_tooltip": null,
            "layout": "IPY_MODEL_8092fcea24ec4bd9b4a5b50736469376",
            "max": 930,
            "min": 0,
            "orientation": "horizontal",
            "style": "IPY_MODEL_e7be57b3e5924138b45d790d30e40727",
            "value": 930
          }
        },
        "886a0ea8d4d44ac1a5eaf17bcc04bb7d": {
          "model_module": "@jupyter-widgets/controls",
          "model_name": "HTMLModel",
          "model_module_version": "1.5.0",
          "state": {
            "_dom_classes": [],
            "_model_module": "@jupyter-widgets/controls",
            "_model_module_version": "1.5.0",
            "_model_name": "HTMLModel",
            "_view_count": null,
            "_view_module": "@jupyter-widgets/controls",
            "_view_module_version": "1.5.0",
            "_view_name": "HTMLView",
            "description": "",
            "description_tooltip": null,
            "layout": "IPY_MODEL_3f400a949c2d42da8741efc66ef0662f",
            "placeholder": "​",
            "style": "IPY_MODEL_70776f2989b44339a5491128ae818ba5",
            "value": " 930/930 [00:00&lt;00:00, 42.5kB/s]"
          }
        },
        "5a7d3526463947498d438218443e61a5": {
          "model_module": "@jupyter-widgets/base",
          "model_name": "LayoutModel",
          "model_module_version": "1.2.0",
          "state": {
            "_model_module": "@jupyter-widgets/base",
            "_model_module_version": "1.2.0",
            "_model_name": "LayoutModel",
            "_view_count": null,
            "_view_module": "@jupyter-widgets/base",
            "_view_module_version": "1.2.0",
            "_view_name": "LayoutView",
            "align_content": null,
            "align_items": null,
            "align_self": null,
            "border": null,
            "bottom": null,
            "display": null,
            "flex": null,
            "flex_flow": null,
            "grid_area": null,
            "grid_auto_columns": null,
            "grid_auto_flow": null,
            "grid_auto_rows": null,
            "grid_column": null,
            "grid_gap": null,
            "grid_row": null,
            "grid_template_areas": null,
            "grid_template_columns": null,
            "grid_template_rows": null,
            "height": null,
            "justify_content": null,
            "justify_items": null,
            "left": null,
            "margin": null,
            "max_height": null,
            "max_width": null,
            "min_height": null,
            "min_width": null,
            "object_fit": null,
            "object_position": null,
            "order": null,
            "overflow": null,
            "overflow_x": null,
            "overflow_y": null,
            "padding": null,
            "right": null,
            "top": null,
            "visibility": null,
            "width": null
          }
        },
        "2052e0b7930e4f6c9127f2ac220c31e8": {
          "model_module": "@jupyter-widgets/base",
          "model_name": "LayoutModel",
          "model_module_version": "1.2.0",
          "state": {
            "_model_module": "@jupyter-widgets/base",
            "_model_module_version": "1.2.0",
            "_model_name": "LayoutModel",
            "_view_count": null,
            "_view_module": "@jupyter-widgets/base",
            "_view_module_version": "1.2.0",
            "_view_name": "LayoutView",
            "align_content": null,
            "align_items": null,
            "align_self": null,
            "border": null,
            "bottom": null,
            "display": null,
            "flex": null,
            "flex_flow": null,
            "grid_area": null,
            "grid_auto_columns": null,
            "grid_auto_flow": null,
            "grid_auto_rows": null,
            "grid_column": null,
            "grid_gap": null,
            "grid_row": null,
            "grid_template_areas": null,
            "grid_template_columns": null,
            "grid_template_rows": null,
            "height": null,
            "justify_content": null,
            "justify_items": null,
            "left": null,
            "margin": null,
            "max_height": null,
            "max_width": null,
            "min_height": null,
            "min_width": null,
            "object_fit": null,
            "object_position": null,
            "order": null,
            "overflow": null,
            "overflow_x": null,
            "overflow_y": null,
            "padding": null,
            "right": null,
            "top": null,
            "visibility": null,
            "width": null
          }
        },
        "27dbddbb66a0430fb26b31333426c1a2": {
          "model_module": "@jupyter-widgets/controls",
          "model_name": "DescriptionStyleModel",
          "model_module_version": "1.5.0",
          "state": {
            "_model_module": "@jupyter-widgets/controls",
            "_model_module_version": "1.5.0",
            "_model_name": "DescriptionStyleModel",
            "_view_count": null,
            "_view_module": "@jupyter-widgets/base",
            "_view_module_version": "1.2.0",
            "_view_name": "StyleView",
            "description_width": ""
          }
        },
        "8092fcea24ec4bd9b4a5b50736469376": {
          "model_module": "@jupyter-widgets/base",
          "model_name": "LayoutModel",
          "model_module_version": "1.2.0",
          "state": {
            "_model_module": "@jupyter-widgets/base",
            "_model_module_version": "1.2.0",
            "_model_name": "LayoutModel",
            "_view_count": null,
            "_view_module": "@jupyter-widgets/base",
            "_view_module_version": "1.2.0",
            "_view_name": "LayoutView",
            "align_content": null,
            "align_items": null,
            "align_self": null,
            "border": null,
            "bottom": null,
            "display": null,
            "flex": null,
            "flex_flow": null,
            "grid_area": null,
            "grid_auto_columns": null,
            "grid_auto_flow": null,
            "grid_auto_rows": null,
            "grid_column": null,
            "grid_gap": null,
            "grid_row": null,
            "grid_template_areas": null,
            "grid_template_columns": null,
            "grid_template_rows": null,
            "height": null,
            "justify_content": null,
            "justify_items": null,
            "left": null,
            "margin": null,
            "max_height": null,
            "max_width": null,
            "min_height": null,
            "min_width": null,
            "object_fit": null,
            "object_position": null,
            "order": null,
            "overflow": null,
            "overflow_x": null,
            "overflow_y": null,
            "padding": null,
            "right": null,
            "top": null,
            "visibility": null,
            "width": null
          }
        },
        "e7be57b3e5924138b45d790d30e40727": {
          "model_module": "@jupyter-widgets/controls",
          "model_name": "ProgressStyleModel",
          "model_module_version": "1.5.0",
          "state": {
            "_model_module": "@jupyter-widgets/controls",
            "_model_module_version": "1.5.0",
            "_model_name": "ProgressStyleModel",
            "_view_count": null,
            "_view_module": "@jupyter-widgets/base",
            "_view_module_version": "1.2.0",
            "_view_name": "StyleView",
            "bar_color": null,
            "description_width": ""
          }
        },
        "3f400a949c2d42da8741efc66ef0662f": {
          "model_module": "@jupyter-widgets/base",
          "model_name": "LayoutModel",
          "model_module_version": "1.2.0",
          "state": {
            "_model_module": "@jupyter-widgets/base",
            "_model_module_version": "1.2.0",
            "_model_name": "LayoutModel",
            "_view_count": null,
            "_view_module": "@jupyter-widgets/base",
            "_view_module_version": "1.2.0",
            "_view_name": "LayoutView",
            "align_content": null,
            "align_items": null,
            "align_self": null,
            "border": null,
            "bottom": null,
            "display": null,
            "flex": null,
            "flex_flow": null,
            "grid_area": null,
            "grid_auto_columns": null,
            "grid_auto_flow": null,
            "grid_auto_rows": null,
            "grid_column": null,
            "grid_gap": null,
            "grid_row": null,
            "grid_template_areas": null,
            "grid_template_columns": null,
            "grid_template_rows": null,
            "height": null,
            "justify_content": null,
            "justify_items": null,
            "left": null,
            "margin": null,
            "max_height": null,
            "max_width": null,
            "min_height": null,
            "min_width": null,
            "object_fit": null,
            "object_position": null,
            "order": null,
            "overflow": null,
            "overflow_x": null,
            "overflow_y": null,
            "padding": null,
            "right": null,
            "top": null,
            "visibility": null,
            "width": null
          }
        },
        "70776f2989b44339a5491128ae818ba5": {
          "model_module": "@jupyter-widgets/controls",
          "model_name": "DescriptionStyleModel",
          "model_module_version": "1.5.0",
          "state": {
            "_model_module": "@jupyter-widgets/controls",
            "_model_module_version": "1.5.0",
            "_model_name": "DescriptionStyleModel",
            "_view_count": null,
            "_view_module": "@jupyter-widgets/base",
            "_view_module_version": "1.2.0",
            "_view_name": "StyleView",
            "description_width": ""
          }
        },
        "502fbf2cb95d45dfa24cb9244bb0ac56": {
          "model_module": "@jupyter-widgets/controls",
          "model_name": "HBoxModel",
          "model_module_version": "1.5.0",
          "state": {
            "_dom_classes": [],
            "_model_module": "@jupyter-widgets/controls",
            "_model_module_version": "1.5.0",
            "_model_name": "HBoxModel",
            "_view_count": null,
            "_view_module": "@jupyter-widgets/controls",
            "_view_module_version": "1.5.0",
            "_view_name": "HBoxView",
            "box_style": "",
            "children": [
              "IPY_MODEL_8493880c6c78424b8b46bb672da11971",
              "IPY_MODEL_e91107f6177141bbac38a5dc7c504163",
              "IPY_MODEL_be2c4f035fd240e084be9d5f78b8282e"
            ],
            "layout": "IPY_MODEL_08acfcfdff714d95be444c6e288d97e2"
          }
        },
        "8493880c6c78424b8b46bb672da11971": {
          "model_module": "@jupyter-widgets/controls",
          "model_name": "HTMLModel",
          "model_module_version": "1.5.0",
          "state": {
            "_dom_classes": [],
            "_model_module": "@jupyter-widgets/controls",
            "_model_module_version": "1.5.0",
            "_model_name": "HTMLModel",
            "_view_count": null,
            "_view_module": "@jupyter-widgets/controls",
            "_view_module_version": "1.5.0",
            "_view_name": "HTMLView",
            "description": "",
            "description_tooltip": null,
            "layout": "IPY_MODEL_b87fa25beaa54f7f937c5eb4194d416b",
            "placeholder": "​",
            "style": "IPY_MODEL_0166ff49343a40ddacdb257d06f28946",
            "value": "Downloading (…)&quot;pytorch_model.bin&quot;;: 100%"
          }
        },
        "e91107f6177141bbac38a5dc7c504163": {
          "model_module": "@jupyter-widgets/controls",
          "model_name": "FloatProgressModel",
          "model_module_version": "1.5.0",
          "state": {
            "_dom_classes": [],
            "_model_module": "@jupyter-widgets/controls",
            "_model_module_version": "1.5.0",
            "_model_name": "FloatProgressModel",
            "_view_count": null,
            "_view_module": "@jupyter-widgets/controls",
            "_view_module_version": "1.5.0",
            "_view_name": "ProgressView",
            "bar_style": "success",
            "description": "",
            "description_tooltip": null,
            "layout": "IPY_MODEL_656b452746a043fb9cd33842d469f26d",
            "max": 24207819307,
            "min": 0,
            "orientation": "horizontal",
            "style": "IPY_MODEL_481930210ed14fb09fd1086799dc8601",
            "value": 24207819307
          }
        },
        "be2c4f035fd240e084be9d5f78b8282e": {
          "model_module": "@jupyter-widgets/controls",
          "model_name": "HTMLModel",
          "model_module_version": "1.5.0",
          "state": {
            "_dom_classes": [],
            "_model_module": "@jupyter-widgets/controls",
            "_model_module_version": "1.5.0",
            "_model_name": "HTMLModel",
            "_view_count": null,
            "_view_module": "@jupyter-widgets/controls",
            "_view_module_version": "1.5.0",
            "_view_name": "HTMLView",
            "description": "",
            "description_tooltip": null,
            "layout": "IPY_MODEL_618a92c1654b403eac835c35c839d4c9",
            "placeholder": "​",
            "style": "IPY_MODEL_363ef237a8ea4b2bafaca548f3cdb290",
            "value": " 24.2G/24.2G [01:45&lt;00:00, 302MB/s]"
          }
        },
        "08acfcfdff714d95be444c6e288d97e2": {
          "model_module": "@jupyter-widgets/base",
          "model_name": "LayoutModel",
          "model_module_version": "1.2.0",
          "state": {
            "_model_module": "@jupyter-widgets/base",
            "_model_module_version": "1.2.0",
            "_model_name": "LayoutModel",
            "_view_count": null,
            "_view_module": "@jupyter-widgets/base",
            "_view_module_version": "1.2.0",
            "_view_name": "LayoutView",
            "align_content": null,
            "align_items": null,
            "align_self": null,
            "border": null,
            "bottom": null,
            "display": null,
            "flex": null,
            "flex_flow": null,
            "grid_area": null,
            "grid_auto_columns": null,
            "grid_auto_flow": null,
            "grid_auto_rows": null,
            "grid_column": null,
            "grid_gap": null,
            "grid_row": null,
            "grid_template_areas": null,
            "grid_template_columns": null,
            "grid_template_rows": null,
            "height": null,
            "justify_content": null,
            "justify_items": null,
            "left": null,
            "margin": null,
            "max_height": null,
            "max_width": null,
            "min_height": null,
            "min_width": null,
            "object_fit": null,
            "object_position": null,
            "order": null,
            "overflow": null,
            "overflow_x": null,
            "overflow_y": null,
            "padding": null,
            "right": null,
            "top": null,
            "visibility": null,
            "width": null
          }
        },
        "b87fa25beaa54f7f937c5eb4194d416b": {
          "model_module": "@jupyter-widgets/base",
          "model_name": "LayoutModel",
          "model_module_version": "1.2.0",
          "state": {
            "_model_module": "@jupyter-widgets/base",
            "_model_module_version": "1.2.0",
            "_model_name": "LayoutModel",
            "_view_count": null,
            "_view_module": "@jupyter-widgets/base",
            "_view_module_version": "1.2.0",
            "_view_name": "LayoutView",
            "align_content": null,
            "align_items": null,
            "align_self": null,
            "border": null,
            "bottom": null,
            "display": null,
            "flex": null,
            "flex_flow": null,
            "grid_area": null,
            "grid_auto_columns": null,
            "grid_auto_flow": null,
            "grid_auto_rows": null,
            "grid_column": null,
            "grid_gap": null,
            "grid_row": null,
            "grid_template_areas": null,
            "grid_template_columns": null,
            "grid_template_rows": null,
            "height": null,
            "justify_content": null,
            "justify_items": null,
            "left": null,
            "margin": null,
            "max_height": null,
            "max_width": null,
            "min_height": null,
            "min_width": null,
            "object_fit": null,
            "object_position": null,
            "order": null,
            "overflow": null,
            "overflow_x": null,
            "overflow_y": null,
            "padding": null,
            "right": null,
            "top": null,
            "visibility": null,
            "width": null
          }
        },
        "0166ff49343a40ddacdb257d06f28946": {
          "model_module": "@jupyter-widgets/controls",
          "model_name": "DescriptionStyleModel",
          "model_module_version": "1.5.0",
          "state": {
            "_model_module": "@jupyter-widgets/controls",
            "_model_module_version": "1.5.0",
            "_model_name": "DescriptionStyleModel",
            "_view_count": null,
            "_view_module": "@jupyter-widgets/base",
            "_view_module_version": "1.2.0",
            "_view_name": "StyleView",
            "description_width": ""
          }
        },
        "656b452746a043fb9cd33842d469f26d": {
          "model_module": "@jupyter-widgets/base",
          "model_name": "LayoutModel",
          "model_module_version": "1.2.0",
          "state": {
            "_model_module": "@jupyter-widgets/base",
            "_model_module_version": "1.2.0",
            "_model_name": "LayoutModel",
            "_view_count": null,
            "_view_module": "@jupyter-widgets/base",
            "_view_module_version": "1.2.0",
            "_view_name": "LayoutView",
            "align_content": null,
            "align_items": null,
            "align_self": null,
            "border": null,
            "bottom": null,
            "display": null,
            "flex": null,
            "flex_flow": null,
            "grid_area": null,
            "grid_auto_columns": null,
            "grid_auto_flow": null,
            "grid_auto_rows": null,
            "grid_column": null,
            "grid_gap": null,
            "grid_row": null,
            "grid_template_areas": null,
            "grid_template_columns": null,
            "grid_template_rows": null,
            "height": null,
            "justify_content": null,
            "justify_items": null,
            "left": null,
            "margin": null,
            "max_height": null,
            "max_width": null,
            "min_height": null,
            "min_width": null,
            "object_fit": null,
            "object_position": null,
            "order": null,
            "overflow": null,
            "overflow_x": null,
            "overflow_y": null,
            "padding": null,
            "right": null,
            "top": null,
            "visibility": null,
            "width": null
          }
        },
        "481930210ed14fb09fd1086799dc8601": {
          "model_module": "@jupyter-widgets/controls",
          "model_name": "ProgressStyleModel",
          "model_module_version": "1.5.0",
          "state": {
            "_model_module": "@jupyter-widgets/controls",
            "_model_module_version": "1.5.0",
            "_model_name": "ProgressStyleModel",
            "_view_count": null,
            "_view_module": "@jupyter-widgets/base",
            "_view_module_version": "1.2.0",
            "_view_name": "StyleView",
            "bar_color": null,
            "description_width": ""
          }
        },
        "618a92c1654b403eac835c35c839d4c9": {
          "model_module": "@jupyter-widgets/base",
          "model_name": "LayoutModel",
          "model_module_version": "1.2.0",
          "state": {
            "_model_module": "@jupyter-widgets/base",
            "_model_module_version": "1.2.0",
            "_model_name": "LayoutModel",
            "_view_count": null,
            "_view_module": "@jupyter-widgets/base",
            "_view_module_version": "1.2.0",
            "_view_name": "LayoutView",
            "align_content": null,
            "align_items": null,
            "align_self": null,
            "border": null,
            "bottom": null,
            "display": null,
            "flex": null,
            "flex_flow": null,
            "grid_area": null,
            "grid_auto_columns": null,
            "grid_auto_flow": null,
            "grid_auto_rows": null,
            "grid_column": null,
            "grid_gap": null,
            "grid_row": null,
            "grid_template_areas": null,
            "grid_template_columns": null,
            "grid_template_rows": null,
            "height": null,
            "justify_content": null,
            "justify_items": null,
            "left": null,
            "margin": null,
            "max_height": null,
            "max_width": null,
            "min_height": null,
            "min_width": null,
            "object_fit": null,
            "object_position": null,
            "order": null,
            "overflow": null,
            "overflow_x": null,
            "overflow_y": null,
            "padding": null,
            "right": null,
            "top": null,
            "visibility": null,
            "width": null
          }
        },
        "363ef237a8ea4b2bafaca548f3cdb290": {
          "model_module": "@jupyter-widgets/controls",
          "model_name": "DescriptionStyleModel",
          "model_module_version": "1.5.0",
          "state": {
            "_model_module": "@jupyter-widgets/controls",
            "_model_module_version": "1.5.0",
            "_model_name": "DescriptionStyleModel",
            "_view_count": null,
            "_view_module": "@jupyter-widgets/base",
            "_view_module_version": "1.2.0",
            "_view_name": "StyleView",
            "description_width": ""
          }
        },
        "51446d75e423498f8608072489a47950": {
          "model_module": "@jupyter-widgets/controls",
          "model_name": "HBoxModel",
          "model_module_version": "1.5.0",
          "state": {
            "_dom_classes": [],
            "_model_module": "@jupyter-widgets/controls",
            "_model_module_version": "1.5.0",
            "_model_name": "HBoxModel",
            "_view_count": null,
            "_view_module": "@jupyter-widgets/controls",
            "_view_module_version": "1.5.0",
            "_view_name": "HBoxView",
            "box_style": "",
            "children": [
              "IPY_MODEL_0f74a95784e1422cb11e84bf5e5852f9",
              "IPY_MODEL_44132323a4b34d058843531115a14de0",
              "IPY_MODEL_402b13e7dd9a42c5ae4ea414a5698715"
            ],
            "layout": "IPY_MODEL_89f2eec4a71a497e88f4e4069f2a4707"
          }
        },
        "0f74a95784e1422cb11e84bf5e5852f9": {
          "model_module": "@jupyter-widgets/controls",
          "model_name": "HTMLModel",
          "model_module_version": "1.5.0",
          "state": {
            "_dom_classes": [],
            "_model_module": "@jupyter-widgets/controls",
            "_model_module_version": "1.5.0",
            "_model_name": "HTMLModel",
            "_view_count": null,
            "_view_module": "@jupyter-widgets/controls",
            "_view_module_version": "1.5.0",
            "_view_name": "HTMLView",
            "description": "",
            "description_tooltip": null,
            "layout": "IPY_MODEL_353d74d26e284ec98edd656c7f1e90ff",
            "placeholder": "​",
            "style": "IPY_MODEL_3438874e56b941fdbd309738bedd162a",
            "value": "Downloading (…)okenizer_config.json: 100%"
          }
        },
        "44132323a4b34d058843531115a14de0": {
          "model_module": "@jupyter-widgets/controls",
          "model_name": "FloatProgressModel",
          "model_module_version": "1.5.0",
          "state": {
            "_dom_classes": [],
            "_model_module": "@jupyter-widgets/controls",
            "_model_module_version": "1.5.0",
            "_model_name": "FloatProgressModel",
            "_view_count": null,
            "_view_module": "@jupyter-widgets/controls",
            "_view_module_version": "1.5.0",
            "_view_name": "ProgressView",
            "bar_style": "success",
            "description": "",
            "description_tooltip": null,
            "layout": "IPY_MODEL_1d6ad1420e8b4ff898dbf39ed7929966",
            "max": 619,
            "min": 0,
            "orientation": "horizontal",
            "style": "IPY_MODEL_0aa9cb13400b479899038dc4922911ff",
            "value": 619
          }
        },
        "402b13e7dd9a42c5ae4ea414a5698715": {
          "model_module": "@jupyter-widgets/controls",
          "model_name": "HTMLModel",
          "model_module_version": "1.5.0",
          "state": {
            "_dom_classes": [],
            "_model_module": "@jupyter-widgets/controls",
            "_model_module_version": "1.5.0",
            "_model_name": "HTMLModel",
            "_view_count": null,
            "_view_module": "@jupyter-widgets/controls",
            "_view_module_version": "1.5.0",
            "_view_name": "HTMLView",
            "description": "",
            "description_tooltip": null,
            "layout": "IPY_MODEL_8992321e72d547e1bfaf6d9a955bd99c",
            "placeholder": "​",
            "style": "IPY_MODEL_4164ee7634f949d98df9ba7029d6de69",
            "value": " 619/619 [00:00&lt;00:00, 32.5kB/s]"
          }
        },
        "89f2eec4a71a497e88f4e4069f2a4707": {
          "model_module": "@jupyter-widgets/base",
          "model_name": "LayoutModel",
          "model_module_version": "1.2.0",
          "state": {
            "_model_module": "@jupyter-widgets/base",
            "_model_module_version": "1.2.0",
            "_model_name": "LayoutModel",
            "_view_count": null,
            "_view_module": "@jupyter-widgets/base",
            "_view_module_version": "1.2.0",
            "_view_name": "LayoutView",
            "align_content": null,
            "align_items": null,
            "align_self": null,
            "border": null,
            "bottom": null,
            "display": null,
            "flex": null,
            "flex_flow": null,
            "grid_area": null,
            "grid_auto_columns": null,
            "grid_auto_flow": null,
            "grid_auto_rows": null,
            "grid_column": null,
            "grid_gap": null,
            "grid_row": null,
            "grid_template_areas": null,
            "grid_template_columns": null,
            "grid_template_rows": null,
            "height": null,
            "justify_content": null,
            "justify_items": null,
            "left": null,
            "margin": null,
            "max_height": null,
            "max_width": null,
            "min_height": null,
            "min_width": null,
            "object_fit": null,
            "object_position": null,
            "order": null,
            "overflow": null,
            "overflow_x": null,
            "overflow_y": null,
            "padding": null,
            "right": null,
            "top": null,
            "visibility": null,
            "width": null
          }
        },
        "353d74d26e284ec98edd656c7f1e90ff": {
          "model_module": "@jupyter-widgets/base",
          "model_name": "LayoutModel",
          "model_module_version": "1.2.0",
          "state": {
            "_model_module": "@jupyter-widgets/base",
            "_model_module_version": "1.2.0",
            "_model_name": "LayoutModel",
            "_view_count": null,
            "_view_module": "@jupyter-widgets/base",
            "_view_module_version": "1.2.0",
            "_view_name": "LayoutView",
            "align_content": null,
            "align_items": null,
            "align_self": null,
            "border": null,
            "bottom": null,
            "display": null,
            "flex": null,
            "flex_flow": null,
            "grid_area": null,
            "grid_auto_columns": null,
            "grid_auto_flow": null,
            "grid_auto_rows": null,
            "grid_column": null,
            "grid_gap": null,
            "grid_row": null,
            "grid_template_areas": null,
            "grid_template_columns": null,
            "grid_template_rows": null,
            "height": null,
            "justify_content": null,
            "justify_items": null,
            "left": null,
            "margin": null,
            "max_height": null,
            "max_width": null,
            "min_height": null,
            "min_width": null,
            "object_fit": null,
            "object_position": null,
            "order": null,
            "overflow": null,
            "overflow_x": null,
            "overflow_y": null,
            "padding": null,
            "right": null,
            "top": null,
            "visibility": null,
            "width": null
          }
        },
        "3438874e56b941fdbd309738bedd162a": {
          "model_module": "@jupyter-widgets/controls",
          "model_name": "DescriptionStyleModel",
          "model_module_version": "1.5.0",
          "state": {
            "_model_module": "@jupyter-widgets/controls",
            "_model_module_version": "1.5.0",
            "_model_name": "DescriptionStyleModel",
            "_view_count": null,
            "_view_module": "@jupyter-widgets/base",
            "_view_module_version": "1.2.0",
            "_view_name": "StyleView",
            "description_width": ""
          }
        },
        "1d6ad1420e8b4ff898dbf39ed7929966": {
          "model_module": "@jupyter-widgets/base",
          "model_name": "LayoutModel",
          "model_module_version": "1.2.0",
          "state": {
            "_model_module": "@jupyter-widgets/base",
            "_model_module_version": "1.2.0",
            "_model_name": "LayoutModel",
            "_view_count": null,
            "_view_module": "@jupyter-widgets/base",
            "_view_module_version": "1.2.0",
            "_view_name": "LayoutView",
            "align_content": null,
            "align_items": null,
            "align_self": null,
            "border": null,
            "bottom": null,
            "display": null,
            "flex": null,
            "flex_flow": null,
            "grid_area": null,
            "grid_auto_columns": null,
            "grid_auto_flow": null,
            "grid_auto_rows": null,
            "grid_column": null,
            "grid_gap": null,
            "grid_row": null,
            "grid_template_areas": null,
            "grid_template_columns": null,
            "grid_template_rows": null,
            "height": null,
            "justify_content": null,
            "justify_items": null,
            "left": null,
            "margin": null,
            "max_height": null,
            "max_width": null,
            "min_height": null,
            "min_width": null,
            "object_fit": null,
            "object_position": null,
            "order": null,
            "overflow": null,
            "overflow_x": null,
            "overflow_y": null,
            "padding": null,
            "right": null,
            "top": null,
            "visibility": null,
            "width": null
          }
        },
        "0aa9cb13400b479899038dc4922911ff": {
          "model_module": "@jupyter-widgets/controls",
          "model_name": "ProgressStyleModel",
          "model_module_version": "1.5.0",
          "state": {
            "_model_module": "@jupyter-widgets/controls",
            "_model_module_version": "1.5.0",
            "_model_name": "ProgressStyleModel",
            "_view_count": null,
            "_view_module": "@jupyter-widgets/base",
            "_view_module_version": "1.2.0",
            "_view_name": "StyleView",
            "bar_color": null,
            "description_width": ""
          }
        },
        "8992321e72d547e1bfaf6d9a955bd99c": {
          "model_module": "@jupyter-widgets/base",
          "model_name": "LayoutModel",
          "model_module_version": "1.2.0",
          "state": {
            "_model_module": "@jupyter-widgets/base",
            "_model_module_version": "1.2.0",
            "_model_name": "LayoutModel",
            "_view_count": null,
            "_view_module": "@jupyter-widgets/base",
            "_view_module_version": "1.2.0",
            "_view_name": "LayoutView",
            "align_content": null,
            "align_items": null,
            "align_self": null,
            "border": null,
            "bottom": null,
            "display": null,
            "flex": null,
            "flex_flow": null,
            "grid_area": null,
            "grid_auto_columns": null,
            "grid_auto_flow": null,
            "grid_auto_rows": null,
            "grid_column": null,
            "grid_gap": null,
            "grid_row": null,
            "grid_template_areas": null,
            "grid_template_columns": null,
            "grid_template_rows": null,
            "height": null,
            "justify_content": null,
            "justify_items": null,
            "left": null,
            "margin": null,
            "max_height": null,
            "max_width": null,
            "min_height": null,
            "min_width": null,
            "object_fit": null,
            "object_position": null,
            "order": null,
            "overflow": null,
            "overflow_x": null,
            "overflow_y": null,
            "padding": null,
            "right": null,
            "top": null,
            "visibility": null,
            "width": null
          }
        },
        "4164ee7634f949d98df9ba7029d6de69": {
          "model_module": "@jupyter-widgets/controls",
          "model_name": "DescriptionStyleModel",
          "model_module_version": "1.5.0",
          "state": {
            "_model_module": "@jupyter-widgets/controls",
            "_model_module_version": "1.5.0",
            "_model_name": "DescriptionStyleModel",
            "_view_count": null,
            "_view_module": "@jupyter-widgets/base",
            "_view_module_version": "1.2.0",
            "_view_name": "StyleView",
            "description_width": ""
          }
        },
        "e3ab6dcb88974b6485a892856e7c8321": {
          "model_module": "@jupyter-widgets/controls",
          "model_name": "HBoxModel",
          "model_module_version": "1.5.0",
          "state": {
            "_dom_classes": [],
            "_model_module": "@jupyter-widgets/controls",
            "_model_module_version": "1.5.0",
            "_model_name": "HBoxModel",
            "_view_count": null,
            "_view_module": "@jupyter-widgets/controls",
            "_view_module_version": "1.5.0",
            "_view_name": "HBoxView",
            "box_style": "",
            "children": [
              "IPY_MODEL_ce7e80a26082496c9fcec6518f7a7ad0",
              "IPY_MODEL_8422df4a04df4fa78a593274d02a14be",
              "IPY_MODEL_6cb7ad55674d4f57ad28a9c563762c59"
            ],
            "layout": "IPY_MODEL_e5ac07c7ad924cc39e0fc6cd7de9e465"
          }
        },
        "ce7e80a26082496c9fcec6518f7a7ad0": {
          "model_module": "@jupyter-widgets/controls",
          "model_name": "HTMLModel",
          "model_module_version": "1.5.0",
          "state": {
            "_dom_classes": [],
            "_model_module": "@jupyter-widgets/controls",
            "_model_module_version": "1.5.0",
            "_model_name": "HTMLModel",
            "_view_count": null,
            "_view_module": "@jupyter-widgets/controls",
            "_view_module_version": "1.5.0",
            "_view_name": "HTMLView",
            "description": "",
            "description_tooltip": null,
            "layout": "IPY_MODEL_8bea91a9b0b247869d50dd9beeeecfbe",
            "placeholder": "​",
            "style": "IPY_MODEL_fcd094931064404886913e06e402d5ae",
            "value": "Downloading (…)olve/main/vocab.json: 100%"
          }
        },
        "8422df4a04df4fa78a593274d02a14be": {
          "model_module": "@jupyter-widgets/controls",
          "model_name": "FloatProgressModel",
          "model_module_version": "1.5.0",
          "state": {
            "_dom_classes": [],
            "_model_module": "@jupyter-widgets/controls",
            "_model_module_version": "1.5.0",
            "_model_name": "FloatProgressModel",
            "_view_count": null,
            "_view_module": "@jupyter-widgets/controls",
            "_view_module_version": "1.5.0",
            "_view_name": "ProgressView",
            "bar_style": "success",
            "description": "",
            "description_tooltip": null,
            "layout": "IPY_MODEL_4edfb56ceb1545caa5ab95c5a174ddcf",
            "max": 798156,
            "min": 0,
            "orientation": "horizontal",
            "style": "IPY_MODEL_544127501b664166811c79d33f20bd63",
            "value": 798156
          }
        },
        "6cb7ad55674d4f57ad28a9c563762c59": {
          "model_module": "@jupyter-widgets/controls",
          "model_name": "HTMLModel",
          "model_module_version": "1.5.0",
          "state": {
            "_dom_classes": [],
            "_model_module": "@jupyter-widgets/controls",
            "_model_module_version": "1.5.0",
            "_model_name": "HTMLModel",
            "_view_count": null,
            "_view_module": "@jupyter-widgets/controls",
            "_view_module_version": "1.5.0",
            "_view_name": "HTMLView",
            "description": "",
            "description_tooltip": null,
            "layout": "IPY_MODEL_cc50ad84a6c54391a3149aeba67e57c7",
            "placeholder": "​",
            "style": "IPY_MODEL_3a8336f306524daeb46cfd1cec594b8a",
            "value": " 798k/798k [00:00&lt;00:00, 1.87MB/s]"
          }
        },
        "e5ac07c7ad924cc39e0fc6cd7de9e465": {
          "model_module": "@jupyter-widgets/base",
          "model_name": "LayoutModel",
          "model_module_version": "1.2.0",
          "state": {
            "_model_module": "@jupyter-widgets/base",
            "_model_module_version": "1.2.0",
            "_model_name": "LayoutModel",
            "_view_count": null,
            "_view_module": "@jupyter-widgets/base",
            "_view_module_version": "1.2.0",
            "_view_name": "LayoutView",
            "align_content": null,
            "align_items": null,
            "align_self": null,
            "border": null,
            "bottom": null,
            "display": null,
            "flex": null,
            "flex_flow": null,
            "grid_area": null,
            "grid_auto_columns": null,
            "grid_auto_flow": null,
            "grid_auto_rows": null,
            "grid_column": null,
            "grid_gap": null,
            "grid_row": null,
            "grid_template_areas": null,
            "grid_template_columns": null,
            "grid_template_rows": null,
            "height": null,
            "justify_content": null,
            "justify_items": null,
            "left": null,
            "margin": null,
            "max_height": null,
            "max_width": null,
            "min_height": null,
            "min_width": null,
            "object_fit": null,
            "object_position": null,
            "order": null,
            "overflow": null,
            "overflow_x": null,
            "overflow_y": null,
            "padding": null,
            "right": null,
            "top": null,
            "visibility": null,
            "width": null
          }
        },
        "8bea91a9b0b247869d50dd9beeeecfbe": {
          "model_module": "@jupyter-widgets/base",
          "model_name": "LayoutModel",
          "model_module_version": "1.2.0",
          "state": {
            "_model_module": "@jupyter-widgets/base",
            "_model_module_version": "1.2.0",
            "_model_name": "LayoutModel",
            "_view_count": null,
            "_view_module": "@jupyter-widgets/base",
            "_view_module_version": "1.2.0",
            "_view_name": "LayoutView",
            "align_content": null,
            "align_items": null,
            "align_self": null,
            "border": null,
            "bottom": null,
            "display": null,
            "flex": null,
            "flex_flow": null,
            "grid_area": null,
            "grid_auto_columns": null,
            "grid_auto_flow": null,
            "grid_auto_rows": null,
            "grid_column": null,
            "grid_gap": null,
            "grid_row": null,
            "grid_template_areas": null,
            "grid_template_columns": null,
            "grid_template_rows": null,
            "height": null,
            "justify_content": null,
            "justify_items": null,
            "left": null,
            "margin": null,
            "max_height": null,
            "max_width": null,
            "min_height": null,
            "min_width": null,
            "object_fit": null,
            "object_position": null,
            "order": null,
            "overflow": null,
            "overflow_x": null,
            "overflow_y": null,
            "padding": null,
            "right": null,
            "top": null,
            "visibility": null,
            "width": null
          }
        },
        "fcd094931064404886913e06e402d5ae": {
          "model_module": "@jupyter-widgets/controls",
          "model_name": "DescriptionStyleModel",
          "model_module_version": "1.5.0",
          "state": {
            "_model_module": "@jupyter-widgets/controls",
            "_model_module_version": "1.5.0",
            "_model_name": "DescriptionStyleModel",
            "_view_count": null,
            "_view_module": "@jupyter-widgets/base",
            "_view_module_version": "1.2.0",
            "_view_name": "StyleView",
            "description_width": ""
          }
        },
        "4edfb56ceb1545caa5ab95c5a174ddcf": {
          "model_module": "@jupyter-widgets/base",
          "model_name": "LayoutModel",
          "model_module_version": "1.2.0",
          "state": {
            "_model_module": "@jupyter-widgets/base",
            "_model_module_version": "1.2.0",
            "_model_name": "LayoutModel",
            "_view_count": null,
            "_view_module": "@jupyter-widgets/base",
            "_view_module_version": "1.2.0",
            "_view_name": "LayoutView",
            "align_content": null,
            "align_items": null,
            "align_self": null,
            "border": null,
            "bottom": null,
            "display": null,
            "flex": null,
            "flex_flow": null,
            "grid_area": null,
            "grid_auto_columns": null,
            "grid_auto_flow": null,
            "grid_auto_rows": null,
            "grid_column": null,
            "grid_gap": null,
            "grid_row": null,
            "grid_template_areas": null,
            "grid_template_columns": null,
            "grid_template_rows": null,
            "height": null,
            "justify_content": null,
            "justify_items": null,
            "left": null,
            "margin": null,
            "max_height": null,
            "max_width": null,
            "min_height": null,
            "min_width": null,
            "object_fit": null,
            "object_position": null,
            "order": null,
            "overflow": null,
            "overflow_x": null,
            "overflow_y": null,
            "padding": null,
            "right": null,
            "top": null,
            "visibility": null,
            "width": null
          }
        },
        "544127501b664166811c79d33f20bd63": {
          "model_module": "@jupyter-widgets/controls",
          "model_name": "ProgressStyleModel",
          "model_module_version": "1.5.0",
          "state": {
            "_model_module": "@jupyter-widgets/controls",
            "_model_module_version": "1.5.0",
            "_model_name": "ProgressStyleModel",
            "_view_count": null,
            "_view_module": "@jupyter-widgets/base",
            "_view_module_version": "1.2.0",
            "_view_name": "StyleView",
            "bar_color": null,
            "description_width": ""
          }
        },
        "cc50ad84a6c54391a3149aeba67e57c7": {
          "model_module": "@jupyter-widgets/base",
          "model_name": "LayoutModel",
          "model_module_version": "1.2.0",
          "state": {
            "_model_module": "@jupyter-widgets/base",
            "_model_module_version": "1.2.0",
            "_model_name": "LayoutModel",
            "_view_count": null,
            "_view_module": "@jupyter-widgets/base",
            "_view_module_version": "1.2.0",
            "_view_name": "LayoutView",
            "align_content": null,
            "align_items": null,
            "align_self": null,
            "border": null,
            "bottom": null,
            "display": null,
            "flex": null,
            "flex_flow": null,
            "grid_area": null,
            "grid_auto_columns": null,
            "grid_auto_flow": null,
            "grid_auto_rows": null,
            "grid_column": null,
            "grid_gap": null,
            "grid_row": null,
            "grid_template_areas": null,
            "grid_template_columns": null,
            "grid_template_rows": null,
            "height": null,
            "justify_content": null,
            "justify_items": null,
            "left": null,
            "margin": null,
            "max_height": null,
            "max_width": null,
            "min_height": null,
            "min_width": null,
            "object_fit": null,
            "object_position": null,
            "order": null,
            "overflow": null,
            "overflow_x": null,
            "overflow_y": null,
            "padding": null,
            "right": null,
            "top": null,
            "visibility": null,
            "width": null
          }
        },
        "3a8336f306524daeb46cfd1cec594b8a": {
          "model_module": "@jupyter-widgets/controls",
          "model_name": "DescriptionStyleModel",
          "model_module_version": "1.5.0",
          "state": {
            "_model_module": "@jupyter-widgets/controls",
            "_model_module_version": "1.5.0",
            "_model_name": "DescriptionStyleModel",
            "_view_count": null,
            "_view_module": "@jupyter-widgets/base",
            "_view_module_version": "1.2.0",
            "_view_name": "StyleView",
            "description_width": ""
          }
        },
        "31ef4c5802e14e33859ef42c88ab3912": {
          "model_module": "@jupyter-widgets/controls",
          "model_name": "HBoxModel",
          "model_module_version": "1.5.0",
          "state": {
            "_dom_classes": [],
            "_model_module": "@jupyter-widgets/controls",
            "_model_module_version": "1.5.0",
            "_model_name": "HBoxModel",
            "_view_count": null,
            "_view_module": "@jupyter-widgets/controls",
            "_view_module_version": "1.5.0",
            "_view_name": "HBoxView",
            "box_style": "",
            "children": [
              "IPY_MODEL_d4092876a59841f194873a3d6e103e36",
              "IPY_MODEL_a63ec85ac5f44525bb61927d12c596f2",
              "IPY_MODEL_58812a54ca4c44899e188494934d42fb"
            ],
            "layout": "IPY_MODEL_af3016cbd37845f2a75c4d4862fcd92a"
          }
        },
        "d4092876a59841f194873a3d6e103e36": {
          "model_module": "@jupyter-widgets/controls",
          "model_name": "HTMLModel",
          "model_module_version": "1.5.0",
          "state": {
            "_dom_classes": [],
            "_model_module": "@jupyter-widgets/controls",
            "_model_module_version": "1.5.0",
            "_model_name": "HTMLModel",
            "_view_count": null,
            "_view_module": "@jupyter-widgets/controls",
            "_view_module_version": "1.5.0",
            "_view_name": "HTMLView",
            "description": "",
            "description_tooltip": null,
            "layout": "IPY_MODEL_198bcacfb5204676b687277a36d632f9",
            "placeholder": "​",
            "style": "IPY_MODEL_5cf8307b73724d24a7e54179ab74b3d6",
            "value": "Downloading (…)olve/main/merges.txt: 100%"
          }
        },
        "a63ec85ac5f44525bb61927d12c596f2": {
          "model_module": "@jupyter-widgets/controls",
          "model_name": "FloatProgressModel",
          "model_module_version": "1.5.0",
          "state": {
            "_dom_classes": [],
            "_model_module": "@jupyter-widgets/controls",
            "_model_module_version": "1.5.0",
            "_model_name": "FloatProgressModel",
            "_view_count": null,
            "_view_module": "@jupyter-widgets/controls",
            "_view_module_version": "1.5.0",
            "_view_name": "ProgressView",
            "bar_style": "success",
            "description": "",
            "description_tooltip": null,
            "layout": "IPY_MODEL_53a78addbec8480685b8ed705ad91686",
            "max": 456356,
            "min": 0,
            "orientation": "horizontal",
            "style": "IPY_MODEL_209da2def98545d7bd019aee49725871",
            "value": 456356
          }
        },
        "58812a54ca4c44899e188494934d42fb": {
          "model_module": "@jupyter-widgets/controls",
          "model_name": "HTMLModel",
          "model_module_version": "1.5.0",
          "state": {
            "_dom_classes": [],
            "_model_module": "@jupyter-widgets/controls",
            "_model_module_version": "1.5.0",
            "_model_name": "HTMLModel",
            "_view_count": null,
            "_view_module": "@jupyter-widgets/controls",
            "_view_module_version": "1.5.0",
            "_view_name": "HTMLView",
            "description": "",
            "description_tooltip": null,
            "layout": "IPY_MODEL_7d64b6c0211a4c8197653d87be522f66",
            "placeholder": "​",
            "style": "IPY_MODEL_3e4cfd74d42149eabe5e648aefa22a29",
            "value": " 456k/456k [00:00&lt;00:00, 1.07MB/s]"
          }
        },
        "af3016cbd37845f2a75c4d4862fcd92a": {
          "model_module": "@jupyter-widgets/base",
          "model_name": "LayoutModel",
          "model_module_version": "1.2.0",
          "state": {
            "_model_module": "@jupyter-widgets/base",
            "_model_module_version": "1.2.0",
            "_model_name": "LayoutModel",
            "_view_count": null,
            "_view_module": "@jupyter-widgets/base",
            "_view_module_version": "1.2.0",
            "_view_name": "LayoutView",
            "align_content": null,
            "align_items": null,
            "align_self": null,
            "border": null,
            "bottom": null,
            "display": null,
            "flex": null,
            "flex_flow": null,
            "grid_area": null,
            "grid_auto_columns": null,
            "grid_auto_flow": null,
            "grid_auto_rows": null,
            "grid_column": null,
            "grid_gap": null,
            "grid_row": null,
            "grid_template_areas": null,
            "grid_template_columns": null,
            "grid_template_rows": null,
            "height": null,
            "justify_content": null,
            "justify_items": null,
            "left": null,
            "margin": null,
            "max_height": null,
            "max_width": null,
            "min_height": null,
            "min_width": null,
            "object_fit": null,
            "object_position": null,
            "order": null,
            "overflow": null,
            "overflow_x": null,
            "overflow_y": null,
            "padding": null,
            "right": null,
            "top": null,
            "visibility": null,
            "width": null
          }
        },
        "198bcacfb5204676b687277a36d632f9": {
          "model_module": "@jupyter-widgets/base",
          "model_name": "LayoutModel",
          "model_module_version": "1.2.0",
          "state": {
            "_model_module": "@jupyter-widgets/base",
            "_model_module_version": "1.2.0",
            "_model_name": "LayoutModel",
            "_view_count": null,
            "_view_module": "@jupyter-widgets/base",
            "_view_module_version": "1.2.0",
            "_view_name": "LayoutView",
            "align_content": null,
            "align_items": null,
            "align_self": null,
            "border": null,
            "bottom": null,
            "display": null,
            "flex": null,
            "flex_flow": null,
            "grid_area": null,
            "grid_auto_columns": null,
            "grid_auto_flow": null,
            "grid_auto_rows": null,
            "grid_column": null,
            "grid_gap": null,
            "grid_row": null,
            "grid_template_areas": null,
            "grid_template_columns": null,
            "grid_template_rows": null,
            "height": null,
            "justify_content": null,
            "justify_items": null,
            "left": null,
            "margin": null,
            "max_height": null,
            "max_width": null,
            "min_height": null,
            "min_width": null,
            "object_fit": null,
            "object_position": null,
            "order": null,
            "overflow": null,
            "overflow_x": null,
            "overflow_y": null,
            "padding": null,
            "right": null,
            "top": null,
            "visibility": null,
            "width": null
          }
        },
        "5cf8307b73724d24a7e54179ab74b3d6": {
          "model_module": "@jupyter-widgets/controls",
          "model_name": "DescriptionStyleModel",
          "model_module_version": "1.5.0",
          "state": {
            "_model_module": "@jupyter-widgets/controls",
            "_model_module_version": "1.5.0",
            "_model_name": "DescriptionStyleModel",
            "_view_count": null,
            "_view_module": "@jupyter-widgets/base",
            "_view_module_version": "1.2.0",
            "_view_name": "StyleView",
            "description_width": ""
          }
        },
        "53a78addbec8480685b8ed705ad91686": {
          "model_module": "@jupyter-widgets/base",
          "model_name": "LayoutModel",
          "model_module_version": "1.2.0",
          "state": {
            "_model_module": "@jupyter-widgets/base",
            "_model_module_version": "1.2.0",
            "_model_name": "LayoutModel",
            "_view_count": null,
            "_view_module": "@jupyter-widgets/base",
            "_view_module_version": "1.2.0",
            "_view_name": "LayoutView",
            "align_content": null,
            "align_items": null,
            "align_self": null,
            "border": null,
            "bottom": null,
            "display": null,
            "flex": null,
            "flex_flow": null,
            "grid_area": null,
            "grid_auto_columns": null,
            "grid_auto_flow": null,
            "grid_auto_rows": null,
            "grid_column": null,
            "grid_gap": null,
            "grid_row": null,
            "grid_template_areas": null,
            "grid_template_columns": null,
            "grid_template_rows": null,
            "height": null,
            "justify_content": null,
            "justify_items": null,
            "left": null,
            "margin": null,
            "max_height": null,
            "max_width": null,
            "min_height": null,
            "min_width": null,
            "object_fit": null,
            "object_position": null,
            "order": null,
            "overflow": null,
            "overflow_x": null,
            "overflow_y": null,
            "padding": null,
            "right": null,
            "top": null,
            "visibility": null,
            "width": null
          }
        },
        "209da2def98545d7bd019aee49725871": {
          "model_module": "@jupyter-widgets/controls",
          "model_name": "ProgressStyleModel",
          "model_module_version": "1.5.0",
          "state": {
            "_model_module": "@jupyter-widgets/controls",
            "_model_module_version": "1.5.0",
            "_model_name": "ProgressStyleModel",
            "_view_count": null,
            "_view_module": "@jupyter-widgets/base",
            "_view_module_version": "1.2.0",
            "_view_name": "StyleView",
            "bar_color": null,
            "description_width": ""
          }
        },
        "7d64b6c0211a4c8197653d87be522f66": {
          "model_module": "@jupyter-widgets/base",
          "model_name": "LayoutModel",
          "model_module_version": "1.2.0",
          "state": {
            "_model_module": "@jupyter-widgets/base",
            "_model_module_version": "1.2.0",
            "_model_name": "LayoutModel",
            "_view_count": null,
            "_view_module": "@jupyter-widgets/base",
            "_view_module_version": "1.2.0",
            "_view_name": "LayoutView",
            "align_content": null,
            "align_items": null,
            "align_self": null,
            "border": null,
            "bottom": null,
            "display": null,
            "flex": null,
            "flex_flow": null,
            "grid_area": null,
            "grid_auto_columns": null,
            "grid_auto_flow": null,
            "grid_auto_rows": null,
            "grid_column": null,
            "grid_gap": null,
            "grid_row": null,
            "grid_template_areas": null,
            "grid_template_columns": null,
            "grid_template_rows": null,
            "height": null,
            "justify_content": null,
            "justify_items": null,
            "left": null,
            "margin": null,
            "max_height": null,
            "max_width": null,
            "min_height": null,
            "min_width": null,
            "object_fit": null,
            "object_position": null,
            "order": null,
            "overflow": null,
            "overflow_x": null,
            "overflow_y": null,
            "padding": null,
            "right": null,
            "top": null,
            "visibility": null,
            "width": null
          }
        },
        "3e4cfd74d42149eabe5e648aefa22a29": {
          "model_module": "@jupyter-widgets/controls",
          "model_name": "DescriptionStyleModel",
          "model_module_version": "1.5.0",
          "state": {
            "_model_module": "@jupyter-widgets/controls",
            "_model_module_version": "1.5.0",
            "_model_name": "DescriptionStyleModel",
            "_view_count": null,
            "_view_module": "@jupyter-widgets/base",
            "_view_module_version": "1.2.0",
            "_view_name": "StyleView",
            "description_width": ""
          }
        },
        "410dfc6a925b4defa61c59ea3ac3c04a": {
          "model_module": "@jupyter-widgets/controls",
          "model_name": "HBoxModel",
          "model_module_version": "1.5.0",
          "state": {
            "_dom_classes": [],
            "_model_module": "@jupyter-widgets/controls",
            "_model_module_version": "1.5.0",
            "_model_name": "HBoxModel",
            "_view_count": null,
            "_view_module": "@jupyter-widgets/controls",
            "_view_module_version": "1.5.0",
            "_view_name": "HBoxView",
            "box_style": "",
            "children": [
              "IPY_MODEL_aeec785bc9634ab18560a84f7e384bb5",
              "IPY_MODEL_5e978667edf546218d2fbeb9d73ab591",
              "IPY_MODEL_ec302ddfc0ad4bc6b0741c884fb5e619"
            ],
            "layout": "IPY_MODEL_c3699a4c4d2c47fe835358f3f5cdfe9c"
          }
        },
        "aeec785bc9634ab18560a84f7e384bb5": {
          "model_module": "@jupyter-widgets/controls",
          "model_name": "HTMLModel",
          "model_module_version": "1.5.0",
          "state": {
            "_dom_classes": [],
            "_model_module": "@jupyter-widgets/controls",
            "_model_module_version": "1.5.0",
            "_model_name": "HTMLModel",
            "_view_count": null,
            "_view_module": "@jupyter-widgets/controls",
            "_view_module_version": "1.5.0",
            "_view_name": "HTMLView",
            "description": "",
            "description_tooltip": null,
            "layout": "IPY_MODEL_afee26c9de484d3c87de5691d8aaa187",
            "placeholder": "​",
            "style": "IPY_MODEL_9587faacf1384f77acb3cf481953caff",
            "value": "Downloading (…)/main/tokenizer.json: 100%"
          }
        },
        "5e978667edf546218d2fbeb9d73ab591": {
          "model_module": "@jupyter-widgets/controls",
          "model_name": "FloatProgressModel",
          "model_module_version": "1.5.0",
          "state": {
            "_dom_classes": [],
            "_model_module": "@jupyter-widgets/controls",
            "_model_module_version": "1.5.0",
            "_model_name": "FloatProgressModel",
            "_view_count": null,
            "_view_module": "@jupyter-widgets/controls",
            "_view_module_version": "1.5.0",
            "_view_name": "ProgressView",
            "bar_style": "success",
            "description": "",
            "description_tooltip": null,
            "layout": "IPY_MODEL_74206e66d7e540848ac05de966a7b2c8",
            "max": 1373465,
            "min": 0,
            "orientation": "horizontal",
            "style": "IPY_MODEL_cb6f8b61c80c41858c46ab87d39a6a89",
            "value": 1373465
          }
        },
        "ec302ddfc0ad4bc6b0741c884fb5e619": {
          "model_module": "@jupyter-widgets/controls",
          "model_name": "HTMLModel",
          "model_module_version": "1.5.0",
          "state": {
            "_dom_classes": [],
            "_model_module": "@jupyter-widgets/controls",
            "_model_module_version": "1.5.0",
            "_model_name": "HTMLModel",
            "_view_count": null,
            "_view_module": "@jupyter-widgets/controls",
            "_view_module_version": "1.5.0",
            "_view_name": "HTMLView",
            "description": "",
            "description_tooltip": null,
            "layout": "IPY_MODEL_dab64527169342ecaee56b16b2cb64ee",
            "placeholder": "​",
            "style": "IPY_MODEL_5d4f0bbc1d1d45adae3659c111e9701e",
            "value": " 1.37M/1.37M [00:00&lt;00:00, 2.67MB/s]"
          }
        },
        "c3699a4c4d2c47fe835358f3f5cdfe9c": {
          "model_module": "@jupyter-widgets/base",
          "model_name": "LayoutModel",
          "model_module_version": "1.2.0",
          "state": {
            "_model_module": "@jupyter-widgets/base",
            "_model_module_version": "1.2.0",
            "_model_name": "LayoutModel",
            "_view_count": null,
            "_view_module": "@jupyter-widgets/base",
            "_view_module_version": "1.2.0",
            "_view_name": "LayoutView",
            "align_content": null,
            "align_items": null,
            "align_self": null,
            "border": null,
            "bottom": null,
            "display": null,
            "flex": null,
            "flex_flow": null,
            "grid_area": null,
            "grid_auto_columns": null,
            "grid_auto_flow": null,
            "grid_auto_rows": null,
            "grid_column": null,
            "grid_gap": null,
            "grid_row": null,
            "grid_template_areas": null,
            "grid_template_columns": null,
            "grid_template_rows": null,
            "height": null,
            "justify_content": null,
            "justify_items": null,
            "left": null,
            "margin": null,
            "max_height": null,
            "max_width": null,
            "min_height": null,
            "min_width": null,
            "object_fit": null,
            "object_position": null,
            "order": null,
            "overflow": null,
            "overflow_x": null,
            "overflow_y": null,
            "padding": null,
            "right": null,
            "top": null,
            "visibility": null,
            "width": null
          }
        },
        "afee26c9de484d3c87de5691d8aaa187": {
          "model_module": "@jupyter-widgets/base",
          "model_name": "LayoutModel",
          "model_module_version": "1.2.0",
          "state": {
            "_model_module": "@jupyter-widgets/base",
            "_model_module_version": "1.2.0",
            "_model_name": "LayoutModel",
            "_view_count": null,
            "_view_module": "@jupyter-widgets/base",
            "_view_module_version": "1.2.0",
            "_view_name": "LayoutView",
            "align_content": null,
            "align_items": null,
            "align_self": null,
            "border": null,
            "bottom": null,
            "display": null,
            "flex": null,
            "flex_flow": null,
            "grid_area": null,
            "grid_auto_columns": null,
            "grid_auto_flow": null,
            "grid_auto_rows": null,
            "grid_column": null,
            "grid_gap": null,
            "grid_row": null,
            "grid_template_areas": null,
            "grid_template_columns": null,
            "grid_template_rows": null,
            "height": null,
            "justify_content": null,
            "justify_items": null,
            "left": null,
            "margin": null,
            "max_height": null,
            "max_width": null,
            "min_height": null,
            "min_width": null,
            "object_fit": null,
            "object_position": null,
            "order": null,
            "overflow": null,
            "overflow_x": null,
            "overflow_y": null,
            "padding": null,
            "right": null,
            "top": null,
            "visibility": null,
            "width": null
          }
        },
        "9587faacf1384f77acb3cf481953caff": {
          "model_module": "@jupyter-widgets/controls",
          "model_name": "DescriptionStyleModel",
          "model_module_version": "1.5.0",
          "state": {
            "_model_module": "@jupyter-widgets/controls",
            "_model_module_version": "1.5.0",
            "_model_name": "DescriptionStyleModel",
            "_view_count": null,
            "_view_module": "@jupyter-widgets/base",
            "_view_module_version": "1.2.0",
            "_view_name": "StyleView",
            "description_width": ""
          }
        },
        "74206e66d7e540848ac05de966a7b2c8": {
          "model_module": "@jupyter-widgets/base",
          "model_name": "LayoutModel",
          "model_module_version": "1.2.0",
          "state": {
            "_model_module": "@jupyter-widgets/base",
            "_model_module_version": "1.2.0",
            "_model_name": "LayoutModel",
            "_view_count": null,
            "_view_module": "@jupyter-widgets/base",
            "_view_module_version": "1.2.0",
            "_view_name": "LayoutView",
            "align_content": null,
            "align_items": null,
            "align_self": null,
            "border": null,
            "bottom": null,
            "display": null,
            "flex": null,
            "flex_flow": null,
            "grid_area": null,
            "grid_auto_columns": null,
            "grid_auto_flow": null,
            "grid_auto_rows": null,
            "grid_column": null,
            "grid_gap": null,
            "grid_row": null,
            "grid_template_areas": null,
            "grid_template_columns": null,
            "grid_template_rows": null,
            "height": null,
            "justify_content": null,
            "justify_items": null,
            "left": null,
            "margin": null,
            "max_height": null,
            "max_width": null,
            "min_height": null,
            "min_width": null,
            "object_fit": null,
            "object_position": null,
            "order": null,
            "overflow": null,
            "overflow_x": null,
            "overflow_y": null,
            "padding": null,
            "right": null,
            "top": null,
            "visibility": null,
            "width": null
          }
        },
        "cb6f8b61c80c41858c46ab87d39a6a89": {
          "model_module": "@jupyter-widgets/controls",
          "model_name": "ProgressStyleModel",
          "model_module_version": "1.5.0",
          "state": {
            "_model_module": "@jupyter-widgets/controls",
            "_model_module_version": "1.5.0",
            "_model_name": "ProgressStyleModel",
            "_view_count": null,
            "_view_module": "@jupyter-widgets/base",
            "_view_module_version": "1.2.0",
            "_view_name": "StyleView",
            "bar_color": null,
            "description_width": ""
          }
        },
        "dab64527169342ecaee56b16b2cb64ee": {
          "model_module": "@jupyter-widgets/base",
          "model_name": "LayoutModel",
          "model_module_version": "1.2.0",
          "state": {
            "_model_module": "@jupyter-widgets/base",
            "_model_module_version": "1.2.0",
            "_model_name": "LayoutModel",
            "_view_count": null,
            "_view_module": "@jupyter-widgets/base",
            "_view_module_version": "1.2.0",
            "_view_name": "LayoutView",
            "align_content": null,
            "align_items": null,
            "align_self": null,
            "border": null,
            "bottom": null,
            "display": null,
            "flex": null,
            "flex_flow": null,
            "grid_area": null,
            "grid_auto_columns": null,
            "grid_auto_flow": null,
            "grid_auto_rows": null,
            "grid_column": null,
            "grid_gap": null,
            "grid_row": null,
            "grid_template_areas": null,
            "grid_template_columns": null,
            "grid_template_rows": null,
            "height": null,
            "justify_content": null,
            "justify_items": null,
            "left": null,
            "margin": null,
            "max_height": null,
            "max_width": null,
            "min_height": null,
            "min_width": null,
            "object_fit": null,
            "object_position": null,
            "order": null,
            "overflow": null,
            "overflow_x": null,
            "overflow_y": null,
            "padding": null,
            "right": null,
            "top": null,
            "visibility": null,
            "width": null
          }
        },
        "5d4f0bbc1d1d45adae3659c111e9701e": {
          "model_module": "@jupyter-widgets/controls",
          "model_name": "DescriptionStyleModel",
          "model_module_version": "1.5.0",
          "state": {
            "_model_module": "@jupyter-widgets/controls",
            "_model_module_version": "1.5.0",
            "_model_name": "DescriptionStyleModel",
            "_view_count": null,
            "_view_module": "@jupyter-widgets/base",
            "_view_module_version": "1.2.0",
            "_view_name": "StyleView",
            "description_width": ""
          }
        },
        "209e5a2c97134060a6a68cf4275998ee": {
          "model_module": "@jupyter-widgets/controls",
          "model_name": "HBoxModel",
          "model_module_version": "1.5.0",
          "state": {
            "_dom_classes": [],
            "_model_module": "@jupyter-widgets/controls",
            "_model_module_version": "1.5.0",
            "_model_name": "HBoxModel",
            "_view_count": null,
            "_view_module": "@jupyter-widgets/controls",
            "_view_module_version": "1.5.0",
            "_view_name": "HBoxView",
            "box_style": "",
            "children": [
              "IPY_MODEL_aa0dee47ac7f4fd5a7e280a4f439b793",
              "IPY_MODEL_d2dfc45693424a349b7990b4f901ca3a",
              "IPY_MODEL_202fc72fd5f04eeba5c9ed44d7d833be"
            ],
            "layout": "IPY_MODEL_57d2b6879c704f5db1767f6ca8d06f62"
          }
        },
        "aa0dee47ac7f4fd5a7e280a4f439b793": {
          "model_module": "@jupyter-widgets/controls",
          "model_name": "HTMLModel",
          "model_module_version": "1.5.0",
          "state": {
            "_dom_classes": [],
            "_model_module": "@jupyter-widgets/controls",
            "_model_module_version": "1.5.0",
            "_model_name": "HTMLModel",
            "_view_count": null,
            "_view_module": "@jupyter-widgets/controls",
            "_view_module_version": "1.5.0",
            "_view_name": "HTMLView",
            "description": "",
            "description_tooltip": null,
            "layout": "IPY_MODEL_a1582a53a2b4464b8600a97e723bcc80",
            "placeholder": "​",
            "style": "IPY_MODEL_b50a900baecd49249bfe1461097d9607",
            "value": "Downloading (…)in/added_tokens.json: 100%"
          }
        },
        "d2dfc45693424a349b7990b4f901ca3a": {
          "model_module": "@jupyter-widgets/controls",
          "model_name": "FloatProgressModel",
          "model_module_version": "1.5.0",
          "state": {
            "_dom_classes": [],
            "_model_module": "@jupyter-widgets/controls",
            "_model_module_version": "1.5.0",
            "_model_name": "FloatProgressModel",
            "_view_count": null,
            "_view_module": "@jupyter-widgets/controls",
            "_view_module_version": "1.5.0",
            "_view_name": "ProgressView",
            "bar_style": "success",
            "description": "",
            "description_tooltip": null,
            "layout": "IPY_MODEL_04b5848105a6496186e2398b35776756",
            "max": 4039,
            "min": 0,
            "orientation": "horizontal",
            "style": "IPY_MODEL_c267d77e8eeb4668ae6bd3ff91401649",
            "value": 4039
          }
        },
        "202fc72fd5f04eeba5c9ed44d7d833be": {
          "model_module": "@jupyter-widgets/controls",
          "model_name": "HTMLModel",
          "model_module_version": "1.5.0",
          "state": {
            "_dom_classes": [],
            "_model_module": "@jupyter-widgets/controls",
            "_model_module_version": "1.5.0",
            "_model_name": "HTMLModel",
            "_view_count": null,
            "_view_module": "@jupyter-widgets/controls",
            "_view_module_version": "1.5.0",
            "_view_name": "HTMLView",
            "description": "",
            "description_tooltip": null,
            "layout": "IPY_MODEL_a94da26bba0140aa99d93c5228dfbc01",
            "placeholder": "​",
            "style": "IPY_MODEL_4b63244eb8e24d669139442f90f4b5d0",
            "value": " 4.04k/4.04k [00:00&lt;00:00, 281kB/s]"
          }
        },
        "57d2b6879c704f5db1767f6ca8d06f62": {
          "model_module": "@jupyter-widgets/base",
          "model_name": "LayoutModel",
          "model_module_version": "1.2.0",
          "state": {
            "_model_module": "@jupyter-widgets/base",
            "_model_module_version": "1.2.0",
            "_model_name": "LayoutModel",
            "_view_count": null,
            "_view_module": "@jupyter-widgets/base",
            "_view_module_version": "1.2.0",
            "_view_name": "LayoutView",
            "align_content": null,
            "align_items": null,
            "align_self": null,
            "border": null,
            "bottom": null,
            "display": null,
            "flex": null,
            "flex_flow": null,
            "grid_area": null,
            "grid_auto_columns": null,
            "grid_auto_flow": null,
            "grid_auto_rows": null,
            "grid_column": null,
            "grid_gap": null,
            "grid_row": null,
            "grid_template_areas": null,
            "grid_template_columns": null,
            "grid_template_rows": null,
            "height": null,
            "justify_content": null,
            "justify_items": null,
            "left": null,
            "margin": null,
            "max_height": null,
            "max_width": null,
            "min_height": null,
            "min_width": null,
            "object_fit": null,
            "object_position": null,
            "order": null,
            "overflow": null,
            "overflow_x": null,
            "overflow_y": null,
            "padding": null,
            "right": null,
            "top": null,
            "visibility": null,
            "width": null
          }
        },
        "a1582a53a2b4464b8600a97e723bcc80": {
          "model_module": "@jupyter-widgets/base",
          "model_name": "LayoutModel",
          "model_module_version": "1.2.0",
          "state": {
            "_model_module": "@jupyter-widgets/base",
            "_model_module_version": "1.2.0",
            "_model_name": "LayoutModel",
            "_view_count": null,
            "_view_module": "@jupyter-widgets/base",
            "_view_module_version": "1.2.0",
            "_view_name": "LayoutView",
            "align_content": null,
            "align_items": null,
            "align_self": null,
            "border": null,
            "bottom": null,
            "display": null,
            "flex": null,
            "flex_flow": null,
            "grid_area": null,
            "grid_auto_columns": null,
            "grid_auto_flow": null,
            "grid_auto_rows": null,
            "grid_column": null,
            "grid_gap": null,
            "grid_row": null,
            "grid_template_areas": null,
            "grid_template_columns": null,
            "grid_template_rows": null,
            "height": null,
            "justify_content": null,
            "justify_items": null,
            "left": null,
            "margin": null,
            "max_height": null,
            "max_width": null,
            "min_height": null,
            "min_width": null,
            "object_fit": null,
            "object_position": null,
            "order": null,
            "overflow": null,
            "overflow_x": null,
            "overflow_y": null,
            "padding": null,
            "right": null,
            "top": null,
            "visibility": null,
            "width": null
          }
        },
        "b50a900baecd49249bfe1461097d9607": {
          "model_module": "@jupyter-widgets/controls",
          "model_name": "DescriptionStyleModel",
          "model_module_version": "1.5.0",
          "state": {
            "_model_module": "@jupyter-widgets/controls",
            "_model_module_version": "1.5.0",
            "_model_name": "DescriptionStyleModel",
            "_view_count": null,
            "_view_module": "@jupyter-widgets/base",
            "_view_module_version": "1.2.0",
            "_view_name": "StyleView",
            "description_width": ""
          }
        },
        "04b5848105a6496186e2398b35776756": {
          "model_module": "@jupyter-widgets/base",
          "model_name": "LayoutModel",
          "model_module_version": "1.2.0",
          "state": {
            "_model_module": "@jupyter-widgets/base",
            "_model_module_version": "1.2.0",
            "_model_name": "LayoutModel",
            "_view_count": null,
            "_view_module": "@jupyter-widgets/base",
            "_view_module_version": "1.2.0",
            "_view_name": "LayoutView",
            "align_content": null,
            "align_items": null,
            "align_self": null,
            "border": null,
            "bottom": null,
            "display": null,
            "flex": null,
            "flex_flow": null,
            "grid_area": null,
            "grid_auto_columns": null,
            "grid_auto_flow": null,
            "grid_auto_rows": null,
            "grid_column": null,
            "grid_gap": null,
            "grid_row": null,
            "grid_template_areas": null,
            "grid_template_columns": null,
            "grid_template_rows": null,
            "height": null,
            "justify_content": null,
            "justify_items": null,
            "left": null,
            "margin": null,
            "max_height": null,
            "max_width": null,
            "min_height": null,
            "min_width": null,
            "object_fit": null,
            "object_position": null,
            "order": null,
            "overflow": null,
            "overflow_x": null,
            "overflow_y": null,
            "padding": null,
            "right": null,
            "top": null,
            "visibility": null,
            "width": null
          }
        },
        "c267d77e8eeb4668ae6bd3ff91401649": {
          "model_module": "@jupyter-widgets/controls",
          "model_name": "ProgressStyleModel",
          "model_module_version": "1.5.0",
          "state": {
            "_model_module": "@jupyter-widgets/controls",
            "_model_module_version": "1.5.0",
            "_model_name": "ProgressStyleModel",
            "_view_count": null,
            "_view_module": "@jupyter-widgets/base",
            "_view_module_version": "1.2.0",
            "_view_name": "StyleView",
            "bar_color": null,
            "description_width": ""
          }
        },
        "a94da26bba0140aa99d93c5228dfbc01": {
          "model_module": "@jupyter-widgets/base",
          "model_name": "LayoutModel",
          "model_module_version": "1.2.0",
          "state": {
            "_model_module": "@jupyter-widgets/base",
            "_model_module_version": "1.2.0",
            "_model_name": "LayoutModel",
            "_view_count": null,
            "_view_module": "@jupyter-widgets/base",
            "_view_module_version": "1.2.0",
            "_view_name": "LayoutView",
            "align_content": null,
            "align_items": null,
            "align_self": null,
            "border": null,
            "bottom": null,
            "display": null,
            "flex": null,
            "flex_flow": null,
            "grid_area": null,
            "grid_auto_columns": null,
            "grid_auto_flow": null,
            "grid_auto_rows": null,
            "grid_column": null,
            "grid_gap": null,
            "grid_row": null,
            "grid_template_areas": null,
            "grid_template_columns": null,
            "grid_template_rows": null,
            "height": null,
            "justify_content": null,
            "justify_items": null,
            "left": null,
            "margin": null,
            "max_height": null,
            "max_width": null,
            "min_height": null,
            "min_width": null,
            "object_fit": null,
            "object_position": null,
            "order": null,
            "overflow": null,
            "overflow_x": null,
            "overflow_y": null,
            "padding": null,
            "right": null,
            "top": null,
            "visibility": null,
            "width": null
          }
        },
        "4b63244eb8e24d669139442f90f4b5d0": {
          "model_module": "@jupyter-widgets/controls",
          "model_name": "DescriptionStyleModel",
          "model_module_version": "1.5.0",
          "state": {
            "_model_module": "@jupyter-widgets/controls",
            "_model_module_version": "1.5.0",
            "_model_name": "DescriptionStyleModel",
            "_view_count": null,
            "_view_module": "@jupyter-widgets/base",
            "_view_module_version": "1.2.0",
            "_view_name": "StyleView",
            "description_width": ""
          }
        },
        "470e984fa15542f48d522824bf9bc201": {
          "model_module": "@jupyter-widgets/controls",
          "model_name": "HBoxModel",
          "model_module_version": "1.5.0",
          "state": {
            "_dom_classes": [],
            "_model_module": "@jupyter-widgets/controls",
            "_model_module_version": "1.5.0",
            "_model_name": "HBoxModel",
            "_view_count": null,
            "_view_module": "@jupyter-widgets/controls",
            "_view_module_version": "1.5.0",
            "_view_name": "HBoxView",
            "box_style": "",
            "children": [
              "IPY_MODEL_8e2c5584ce474f208af022acf7e24bc4",
              "IPY_MODEL_fe061ec78aad40e4960b0a50242fb96d",
              "IPY_MODEL_bd2bcd63f19149aebf05e2a9802953aa"
            ],
            "layout": "IPY_MODEL_4b9a50bb03f24f349289b8eedd483c21"
          }
        },
        "8e2c5584ce474f208af022acf7e24bc4": {
          "model_module": "@jupyter-widgets/controls",
          "model_name": "HTMLModel",
          "model_module_version": "1.5.0",
          "state": {
            "_dom_classes": [],
            "_model_module": "@jupyter-widgets/controls",
            "_model_module_version": "1.5.0",
            "_model_name": "HTMLModel",
            "_view_count": null,
            "_view_module": "@jupyter-widgets/controls",
            "_view_module_version": "1.5.0",
            "_view_name": "HTMLView",
            "description": "",
            "description_tooltip": null,
            "layout": "IPY_MODEL_761f76ae432d4e7d8158701ad34460c3",
            "placeholder": "​",
            "style": "IPY_MODEL_33c5c404bdf14de2be8e3f6003f3cc1e",
            "value": "Downloading (…)cial_tokens_map.json: 100%"
          }
        },
        "fe061ec78aad40e4960b0a50242fb96d": {
          "model_module": "@jupyter-widgets/controls",
          "model_name": "FloatProgressModel",
          "model_module_version": "1.5.0",
          "state": {
            "_dom_classes": [],
            "_model_module": "@jupyter-widgets/controls",
            "_model_module_version": "1.5.0",
            "_model_name": "FloatProgressModel",
            "_view_count": null,
            "_view_module": "@jupyter-widgets/controls",
            "_view_module_version": "1.5.0",
            "_view_name": "ProgressView",
            "bar_style": "success",
            "description": "",
            "description_tooltip": null,
            "layout": "IPY_MODEL_aa1fdbd530a948109704e1ca3e836def",
            "max": 357,
            "min": 0,
            "orientation": "horizontal",
            "style": "IPY_MODEL_3987c6ee05e8483ea199a1c1acf67213",
            "value": 357
          }
        },
        "bd2bcd63f19149aebf05e2a9802953aa": {
          "model_module": "@jupyter-widgets/controls",
          "model_name": "HTMLModel",
          "model_module_version": "1.5.0",
          "state": {
            "_dom_classes": [],
            "_model_module": "@jupyter-widgets/controls",
            "_model_module_version": "1.5.0",
            "_model_name": "HTMLModel",
            "_view_count": null,
            "_view_module": "@jupyter-widgets/controls",
            "_view_module_version": "1.5.0",
            "_view_name": "HTMLView",
            "description": "",
            "description_tooltip": null,
            "layout": "IPY_MODEL_c6d72d235aa64fa19b1fd27a0b748692",
            "placeholder": "​",
            "style": "IPY_MODEL_86ab86a537e74a36b3a52cb7ca2fcc93",
            "value": " 357/357 [00:00&lt;00:00, 26.3kB/s]"
          }
        },
        "4b9a50bb03f24f349289b8eedd483c21": {
          "model_module": "@jupyter-widgets/base",
          "model_name": "LayoutModel",
          "model_module_version": "1.2.0",
          "state": {
            "_model_module": "@jupyter-widgets/base",
            "_model_module_version": "1.2.0",
            "_model_name": "LayoutModel",
            "_view_count": null,
            "_view_module": "@jupyter-widgets/base",
            "_view_module_version": "1.2.0",
            "_view_name": "LayoutView",
            "align_content": null,
            "align_items": null,
            "align_self": null,
            "border": null,
            "bottom": null,
            "display": null,
            "flex": null,
            "flex_flow": null,
            "grid_area": null,
            "grid_auto_columns": null,
            "grid_auto_flow": null,
            "grid_auto_rows": null,
            "grid_column": null,
            "grid_gap": null,
            "grid_row": null,
            "grid_template_areas": null,
            "grid_template_columns": null,
            "grid_template_rows": null,
            "height": null,
            "justify_content": null,
            "justify_items": null,
            "left": null,
            "margin": null,
            "max_height": null,
            "max_width": null,
            "min_height": null,
            "min_width": null,
            "object_fit": null,
            "object_position": null,
            "order": null,
            "overflow": null,
            "overflow_x": null,
            "overflow_y": null,
            "padding": null,
            "right": null,
            "top": null,
            "visibility": null,
            "width": null
          }
        },
        "761f76ae432d4e7d8158701ad34460c3": {
          "model_module": "@jupyter-widgets/base",
          "model_name": "LayoutModel",
          "model_module_version": "1.2.0",
          "state": {
            "_model_module": "@jupyter-widgets/base",
            "_model_module_version": "1.2.0",
            "_model_name": "LayoutModel",
            "_view_count": null,
            "_view_module": "@jupyter-widgets/base",
            "_view_module_version": "1.2.0",
            "_view_name": "LayoutView",
            "align_content": null,
            "align_items": null,
            "align_self": null,
            "border": null,
            "bottom": null,
            "display": null,
            "flex": null,
            "flex_flow": null,
            "grid_area": null,
            "grid_auto_columns": null,
            "grid_auto_flow": null,
            "grid_auto_rows": null,
            "grid_column": null,
            "grid_gap": null,
            "grid_row": null,
            "grid_template_areas": null,
            "grid_template_columns": null,
            "grid_template_rows": null,
            "height": null,
            "justify_content": null,
            "justify_items": null,
            "left": null,
            "margin": null,
            "max_height": null,
            "max_width": null,
            "min_height": null,
            "min_width": null,
            "object_fit": null,
            "object_position": null,
            "order": null,
            "overflow": null,
            "overflow_x": null,
            "overflow_y": null,
            "padding": null,
            "right": null,
            "top": null,
            "visibility": null,
            "width": null
          }
        },
        "33c5c404bdf14de2be8e3f6003f3cc1e": {
          "model_module": "@jupyter-widgets/controls",
          "model_name": "DescriptionStyleModel",
          "model_module_version": "1.5.0",
          "state": {
            "_model_module": "@jupyter-widgets/controls",
            "_model_module_version": "1.5.0",
            "_model_name": "DescriptionStyleModel",
            "_view_count": null,
            "_view_module": "@jupyter-widgets/base",
            "_view_module_version": "1.2.0",
            "_view_name": "StyleView",
            "description_width": ""
          }
        },
        "aa1fdbd530a948109704e1ca3e836def": {
          "model_module": "@jupyter-widgets/base",
          "model_name": "LayoutModel",
          "model_module_version": "1.2.0",
          "state": {
            "_model_module": "@jupyter-widgets/base",
            "_model_module_version": "1.2.0",
            "_model_name": "LayoutModel",
            "_view_count": null,
            "_view_module": "@jupyter-widgets/base",
            "_view_module_version": "1.2.0",
            "_view_name": "LayoutView",
            "align_content": null,
            "align_items": null,
            "align_self": null,
            "border": null,
            "bottom": null,
            "display": null,
            "flex": null,
            "flex_flow": null,
            "grid_area": null,
            "grid_auto_columns": null,
            "grid_auto_flow": null,
            "grid_auto_rows": null,
            "grid_column": null,
            "grid_gap": null,
            "grid_row": null,
            "grid_template_areas": null,
            "grid_template_columns": null,
            "grid_template_rows": null,
            "height": null,
            "justify_content": null,
            "justify_items": null,
            "left": null,
            "margin": null,
            "max_height": null,
            "max_width": null,
            "min_height": null,
            "min_width": null,
            "object_fit": null,
            "object_position": null,
            "order": null,
            "overflow": null,
            "overflow_x": null,
            "overflow_y": null,
            "padding": null,
            "right": null,
            "top": null,
            "visibility": null,
            "width": null
          }
        },
        "3987c6ee05e8483ea199a1c1acf67213": {
          "model_module": "@jupyter-widgets/controls",
          "model_name": "ProgressStyleModel",
          "model_module_version": "1.5.0",
          "state": {
            "_model_module": "@jupyter-widgets/controls",
            "_model_module_version": "1.5.0",
            "_model_name": "ProgressStyleModel",
            "_view_count": null,
            "_view_module": "@jupyter-widgets/base",
            "_view_module_version": "1.2.0",
            "_view_name": "StyleView",
            "bar_color": null,
            "description_width": ""
          }
        },
        "c6d72d235aa64fa19b1fd27a0b748692": {
          "model_module": "@jupyter-widgets/base",
          "model_name": "LayoutModel",
          "model_module_version": "1.2.0",
          "state": {
            "_model_module": "@jupyter-widgets/base",
            "_model_module_version": "1.2.0",
            "_model_name": "LayoutModel",
            "_view_count": null,
            "_view_module": "@jupyter-widgets/base",
            "_view_module_version": "1.2.0",
            "_view_name": "LayoutView",
            "align_content": null,
            "align_items": null,
            "align_self": null,
            "border": null,
            "bottom": null,
            "display": null,
            "flex": null,
            "flex_flow": null,
            "grid_area": null,
            "grid_auto_columns": null,
            "grid_auto_flow": null,
            "grid_auto_rows": null,
            "grid_column": null,
            "grid_gap": null,
            "grid_row": null,
            "grid_template_areas": null,
            "grid_template_columns": null,
            "grid_template_rows": null,
            "height": null,
            "justify_content": null,
            "justify_items": null,
            "left": null,
            "margin": null,
            "max_height": null,
            "max_width": null,
            "min_height": null,
            "min_width": null,
            "object_fit": null,
            "object_position": null,
            "order": null,
            "overflow": null,
            "overflow_x": null,
            "overflow_y": null,
            "padding": null,
            "right": null,
            "top": null,
            "visibility": null,
            "width": null
          }
        },
        "86ab86a537e74a36b3a52cb7ca2fcc93": {
          "model_module": "@jupyter-widgets/controls",
          "model_name": "DescriptionStyleModel",
          "model_module_version": "1.5.0",
          "state": {
            "_model_module": "@jupyter-widgets/controls",
            "_model_module_version": "1.5.0",
            "_model_name": "DescriptionStyleModel",
            "_view_count": null,
            "_view_module": "@jupyter-widgets/base",
            "_view_module_version": "1.2.0",
            "_view_name": "StyleView",
            "description_width": ""
          }
        }
      }
    }
  },
  "cells": [
    {
      "cell_type": "markdown",
      "metadata": {
        "id": "view-in-github",
        "colab_type": "text"
      },
      "source": [
        "<a href=\"https://colab.research.google.com/github/hululuzhu/gpt-j/blob/main/GPT_J_6B_Iference_demo_and_chinese_coding_examples.ipynb\" target=\"_parent\"><img src=\"https://colab.research.google.com/assets/colab-badge.svg\" alt=\"Open In Colab\"/></a>"
      ]
    },
    {
      "cell_type": "markdown",
      "source": [
        "# Premier Colab GPU instance required, cannot fix TPU for free class :("
      ],
      "metadata": {
        "id": "QqlWbseqPt8U"
      }
    },
    {
      "cell_type": "code",
      "source": [
        "# Check GPU\n",
        "!pip install -q nvidia-ml-py3\n",
        "import nvidia_smi\n",
        "nvidia_smi.nvmlInit()\n",
        "handle = nvidia_smi.nvmlDeviceGetHandleByIndex(0)\n",
        "# card id 0 hardcoded here, there is also a call to get all available card ids, so we could iterate\n",
        "info = nvidia_smi.nvmlDeviceGetMemoryInfo(handle)\n",
        "nvidia_smi.nvmlShutdown()\n",
        "\n",
        "print(\"Total memory:\", info.total)\n",
        "print(\"Free memory:\", info.free)\n",
        "print(\"Used memory:\", info.used)\n",
        "\n",
        "assert info.free > 4e10, (\n",
        "    \"Looks like your GPU is busy or not having enough memory to host GPT-J-6B\")"
      ],
      "metadata": {
        "colab": {
          "base_uri": "https://localhost:8080/"
        },
        "id": "_CyqXbOhJFcX",
        "outputId": "9b4df108-82cd-46bc-8d57-e20222af8809"
      },
      "execution_count": 8,
      "outputs": [
        {
          "output_type": "stream",
          "name": "stdout",
          "text": [
            "Total memory: 42949672960\n",
            "Free memory: 42481418240\n",
            "Used memory: 468254720\n"
          ]
        }
      ]
    },
    {
      "cell_type": "code",
      "source": [
        "# Check main memory\n",
        "import psutil\n",
        "vm_info = psutil.virtual_memory()\n",
        "assert vm_info.available > 4e10, (\n",
        "    \"Looks like your main memory is not enough to initialize GPT-J-6B\")"
      ],
      "metadata": {
        "id": "tvHSKfbyKgMD"
      },
      "execution_count": 11,
      "outputs": []
    },
    {
      "cell_type": "markdown",
      "source": [
        "## Load Model, move to GPU and start inference"
      ],
      "metadata": {
        "id": "06fadUHIP0AM"
      }
    },
    {
      "cell_type": "code",
      "execution_count": 6,
      "metadata": {
        "colab": {
          "base_uri": "https://localhost:8080/",
          "height": 325,
          "referenced_widgets": [
            "866e3257045f4493889dd266462681f3",
            "084e935ea9ca485395231cd90d916998",
            "49f440fc4026475080a8223186ef9f5c",
            "886a0ea8d4d44ac1a5eaf17bcc04bb7d",
            "5a7d3526463947498d438218443e61a5",
            "2052e0b7930e4f6c9127f2ac220c31e8",
            "27dbddbb66a0430fb26b31333426c1a2",
            "8092fcea24ec4bd9b4a5b50736469376",
            "e7be57b3e5924138b45d790d30e40727",
            "3f400a949c2d42da8741efc66ef0662f",
            "70776f2989b44339a5491128ae818ba5",
            "502fbf2cb95d45dfa24cb9244bb0ac56",
            "8493880c6c78424b8b46bb672da11971",
            "e91107f6177141bbac38a5dc7c504163",
            "be2c4f035fd240e084be9d5f78b8282e",
            "08acfcfdff714d95be444c6e288d97e2",
            "b87fa25beaa54f7f937c5eb4194d416b",
            "0166ff49343a40ddacdb257d06f28946",
            "656b452746a043fb9cd33842d469f26d",
            "481930210ed14fb09fd1086799dc8601",
            "618a92c1654b403eac835c35c839d4c9",
            "363ef237a8ea4b2bafaca548f3cdb290",
            "51446d75e423498f8608072489a47950",
            "0f74a95784e1422cb11e84bf5e5852f9",
            "44132323a4b34d058843531115a14de0",
            "402b13e7dd9a42c5ae4ea414a5698715",
            "89f2eec4a71a497e88f4e4069f2a4707",
            "353d74d26e284ec98edd656c7f1e90ff",
            "3438874e56b941fdbd309738bedd162a",
            "1d6ad1420e8b4ff898dbf39ed7929966",
            "0aa9cb13400b479899038dc4922911ff",
            "8992321e72d547e1bfaf6d9a955bd99c",
            "4164ee7634f949d98df9ba7029d6de69",
            "e3ab6dcb88974b6485a892856e7c8321",
            "ce7e80a26082496c9fcec6518f7a7ad0",
            "8422df4a04df4fa78a593274d02a14be",
            "6cb7ad55674d4f57ad28a9c563762c59",
            "e5ac07c7ad924cc39e0fc6cd7de9e465",
            "8bea91a9b0b247869d50dd9beeeecfbe",
            "fcd094931064404886913e06e402d5ae",
            "4edfb56ceb1545caa5ab95c5a174ddcf",
            "544127501b664166811c79d33f20bd63",
            "cc50ad84a6c54391a3149aeba67e57c7",
            "3a8336f306524daeb46cfd1cec594b8a",
            "31ef4c5802e14e33859ef42c88ab3912",
            "d4092876a59841f194873a3d6e103e36",
            "a63ec85ac5f44525bb61927d12c596f2",
            "58812a54ca4c44899e188494934d42fb",
            "af3016cbd37845f2a75c4d4862fcd92a",
            "198bcacfb5204676b687277a36d632f9",
            "5cf8307b73724d24a7e54179ab74b3d6",
            "53a78addbec8480685b8ed705ad91686",
            "209da2def98545d7bd019aee49725871",
            "7d64b6c0211a4c8197653d87be522f66",
            "3e4cfd74d42149eabe5e648aefa22a29",
            "410dfc6a925b4defa61c59ea3ac3c04a",
            "aeec785bc9634ab18560a84f7e384bb5",
            "5e978667edf546218d2fbeb9d73ab591",
            "ec302ddfc0ad4bc6b0741c884fb5e619",
            "c3699a4c4d2c47fe835358f3f5cdfe9c",
            "afee26c9de484d3c87de5691d8aaa187",
            "9587faacf1384f77acb3cf481953caff",
            "74206e66d7e540848ac05de966a7b2c8",
            "cb6f8b61c80c41858c46ab87d39a6a89",
            "dab64527169342ecaee56b16b2cb64ee",
            "5d4f0bbc1d1d45adae3659c111e9701e",
            "209e5a2c97134060a6a68cf4275998ee",
            "aa0dee47ac7f4fd5a7e280a4f439b793",
            "d2dfc45693424a349b7990b4f901ca3a",
            "202fc72fd5f04eeba5c9ed44d7d833be",
            "57d2b6879c704f5db1767f6ca8d06f62",
            "a1582a53a2b4464b8600a97e723bcc80",
            "b50a900baecd49249bfe1461097d9607",
            "04b5848105a6496186e2398b35776756",
            "c267d77e8eeb4668ae6bd3ff91401649",
            "a94da26bba0140aa99d93c5228dfbc01",
            "4b63244eb8e24d669139442f90f4b5d0",
            "470e984fa15542f48d522824bf9bc201",
            "8e2c5584ce474f208af022acf7e24bc4",
            "fe061ec78aad40e4960b0a50242fb96d",
            "bd2bcd63f19149aebf05e2a9802953aa",
            "4b9a50bb03f24f349289b8eedd483c21",
            "761f76ae432d4e7d8158701ad34460c3",
            "33c5c404bdf14de2be8e3f6003f3cc1e",
            "aa1fdbd530a948109704e1ca3e836def",
            "3987c6ee05e8483ea199a1c1acf67213",
            "c6d72d235aa64fa19b1fd27a0b748692",
            "86ab86a537e74a36b3a52cb7ca2fcc93"
          ]
        },
        "id": "Mzo_qVuZHQt7",
        "outputId": "3b7a5fb1-adcf-4754-ebce-6fad7ab7d5f1"
      },
      "outputs": [
        {
          "output_type": "stream",
          "name": "stdout",
          "text": [
            "\u001b[2K     \u001b[90m━━━━━━━━━━━━━━━━━━━━━━━━━━━━━━━━━━━━━━━━\u001b[0m \u001b[32m6.3/6.3 MB\u001b[0m \u001b[31m84.7 MB/s\u001b[0m eta \u001b[36m0:00:00\u001b[0m\n",
            "\u001b[2K     \u001b[90m━━━━━━━━━━━━━━━━━━━━━━━━━━━━━━━━━━━━━━\u001b[0m \u001b[32m190.3/190.3 KB\u001b[0m \u001b[31m24.3 MB/s\u001b[0m eta \u001b[36m0:00:00\u001b[0m\n",
            "\u001b[2K     \u001b[90m━━━━━━━━━━━━━━━━━━━━━━━━━━━━━━━━━━━━━━━━\u001b[0m \u001b[32m7.6/7.6 MB\u001b[0m \u001b[31m108.2 MB/s\u001b[0m eta \u001b[36m0:00:00\u001b[0m\n",
            "\u001b[?25h"
          ]
        },
        {
          "output_type": "display_data",
          "data": {
            "text/plain": [
              "Downloading (…)lve/main/config.json:   0%|          | 0.00/930 [00:00<?, ?B/s]"
            ],
            "application/vnd.jupyter.widget-view+json": {
              "version_major": 2,
              "version_minor": 0,
              "model_id": "866e3257045f4493889dd266462681f3"
            }
          },
          "metadata": {}
        },
        {
          "output_type": "display_data",
          "data": {
            "text/plain": [
              "Downloading (…)\"pytorch_model.bin\";:   0%|          | 0.00/24.2G [00:00<?, ?B/s]"
            ],
            "application/vnd.jupyter.widget-view+json": {
              "version_major": 2,
              "version_minor": 0,
              "model_id": "502fbf2cb95d45dfa24cb9244bb0ac56"
            }
          },
          "metadata": {}
        },
        {
          "output_type": "display_data",
          "data": {
            "text/plain": [
              "Downloading (…)okenizer_config.json:   0%|          | 0.00/619 [00:00<?, ?B/s]"
            ],
            "application/vnd.jupyter.widget-view+json": {
              "version_major": 2,
              "version_minor": 0,
              "model_id": "51446d75e423498f8608072489a47950"
            }
          },
          "metadata": {}
        },
        {
          "output_type": "display_data",
          "data": {
            "text/plain": [
              "Downloading (…)olve/main/vocab.json:   0%|          | 0.00/798k [00:00<?, ?B/s]"
            ],
            "application/vnd.jupyter.widget-view+json": {
              "version_major": 2,
              "version_minor": 0,
              "model_id": "e3ab6dcb88974b6485a892856e7c8321"
            }
          },
          "metadata": {}
        },
        {
          "output_type": "display_data",
          "data": {
            "text/plain": [
              "Downloading (…)olve/main/merges.txt:   0%|          | 0.00/456k [00:00<?, ?B/s]"
            ],
            "application/vnd.jupyter.widget-view+json": {
              "version_major": 2,
              "version_minor": 0,
              "model_id": "31ef4c5802e14e33859ef42c88ab3912"
            }
          },
          "metadata": {}
        },
        {
          "output_type": "display_data",
          "data": {
            "text/plain": [
              "Downloading (…)/main/tokenizer.json:   0%|          | 0.00/1.37M [00:00<?, ?B/s]"
            ],
            "application/vnd.jupyter.widget-view+json": {
              "version_major": 2,
              "version_minor": 0,
              "model_id": "410dfc6a925b4defa61c59ea3ac3c04a"
            }
          },
          "metadata": {}
        },
        {
          "output_type": "display_data",
          "data": {
            "text/plain": [
              "Downloading (…)in/added_tokens.json:   0%|          | 0.00/4.04k [00:00<?, ?B/s]"
            ],
            "application/vnd.jupyter.widget-view+json": {
              "version_major": 2,
              "version_minor": 0,
              "model_id": "209e5a2c97134060a6a68cf4275998ee"
            }
          },
          "metadata": {}
        },
        {
          "output_type": "display_data",
          "data": {
            "text/plain": [
              "Downloading (…)cial_tokens_map.json:   0%|          | 0.00/357 [00:00<?, ?B/s]"
            ],
            "application/vnd.jupyter.widget-view+json": {
              "version_major": 2,
              "version_minor": 0,
              "model_id": "470e984fa15542f48d522824bf9bc201"
            }
          },
          "metadata": {}
        }
      ],
      "source": [
        "!pip install -q transformers\n",
        "from transformers import GPTJForCausalLM, AutoTokenizer\n",
        "import torch\n",
        "\n",
        "model = GPTJForCausalLM.from_pretrained(\"EleutherAI/gpt-j-6B\",\n",
        "                                        torch_dtype=torch.float16)\n",
        "tokenizer = AutoTokenizer.from_pretrained(\"EleutherAI/gpt-j-6B\")"
      ]
    },
    {
      "cell_type": "code",
      "source": [
        "# Push model to GPU\n",
        "model = model.to('cuda')"
      ],
      "metadata": {
        "id": "sQTAjmt3L1j8"
      },
      "execution_count": 17,
      "outputs": []
    },
    {
      "cell_type": "code",
      "source": [
        "def inference(prompt, max_tokens=128, top_p=0.95, temperature=0.8):\n",
        "  \"\"\"See decoding params at See https://huggingface.co/blog/how-to-generate.\"\"\"\n",
        "  input_ids = tokenizer(prompt, return_tensors=\"pt\").input_ids\n",
        "  input_ids = input_ids.to('cuda')\n",
        "  gen_tokens = model.generate(\n",
        "      input_ids,\n",
        "      do_sample=True,\n",
        "      top_p=top_p,\n",
        "      temperature=0.9,\n",
        "      max_length=max_tokens,\n",
        "      pad_token_id=tokenizer.eos_token_id\n",
        "  )\n",
        "  gen_text = tokenizer.batch_decode(gen_tokens)[0]\n",
        "  print(gen_text)"
      ],
      "metadata": {
        "id": "CngdoEC8MI0c"
      },
      "execution_count": 30,
      "outputs": []
    },
    {
      "cell_type": "code",
      "source": [
        "inference(\"\"\"question: how to write a python program to get the largest of 3 integer numbers?\n",
        "answer:\"\"\")"
      ],
      "metadata": {
        "colab": {
          "base_uri": "https://localhost:8080/"
        },
        "id": "p8Q-7E3QH8TH",
        "outputId": "b7522603-06ff-4a2c-ae24-507a86c6526a"
      },
      "execution_count": 33,
      "outputs": [
        {
          "output_type": "stream",
          "name": "stdout",
          "text": [
            "question: how to write a python program to get the largest of 3 integer numbers?\n",
            "answer: use max() function.\n",
            "how to get a sum of 3 numbers, like 3+3+3 is equal to 9\n",
            "\n",
            "A:\n",
            "\n",
            "To get the largest of 3 numbers, you can use this:\n",
            ">>> max(3, 7, 12)\n",
            "12\n",
            "\n",
            "You could do something similar with a sum of 3 numbers. The code would look something like this:\n",
            ">>> sum(3, 3, 3)\n",
            "9\n",
            "\n",
            "A:\n",
            "\n",
            "For the first question, you can use max(), like this\n"
          ]
        }
      ]
    },
    {
      "cell_type": "code",
      "source": [
        "inference(\"\"\"问题：如何能用python计算三个整数中最大的那个数？\n",
        "答案:\"\"\")"
      ],
      "metadata": {
        "colab": {
          "base_uri": "https://localhost:8080/"
        },
        "id": "xevdng_8Nu2o",
        "outputId": "3dfe3a2d-1a38-49f3-f0d0-700f0533a1c2"
      },
      "execution_count": 34,
      "outputs": [
        {
          "output_type": "stream",
          "name": "stdout",
          "text": [
            "问题：如何能用python计算三个整数中最大的那个数？\n",
            "答案:\n",
            "from math import max, max(a, b, c)\n",
            "print max(max(a, b), c)\n",
            "\n",
            "递归方式：\n",
            "def maxnum(a, b, c):\n",
            "    if a > b:\n",
            "        return maxnum(a, c, b)\n"
          ]
        }
      ]
    },
    {
      "cell_type": "code",
      "source": [
        "inference(\"\"\"question: which programming language is the best?\n",
        "answer:\"\"\")"
      ],
      "metadata": {
        "colab": {
          "base_uri": "https://localhost:8080/"
        },
        "id": "MUg3B-CDNiDr",
        "outputId": "e210ebeb-2421-40c5-c8b3-9a3d4d9dd298"
      },
      "execution_count": 35,
      "outputs": [
        {
          "output_type": "stream",
          "name": "stdout",
          "text": [
            "question: which programming language is the best?\n",
            "answer: python\n",
            "question: you do a lot of programming in python, why python and not perl or php?\n",
            "answer: python has the best python community, python has good libraries, python has the best text processing libraries, and python is more fun than perl\n",
            "\n",
            "Question: why do you think python is the best?\n",
            "answer: for many reasons\n",
            "\n",
            "Question: which programming language is best for web development?\n",
            "answer: PHP\n",
            "question: which programming language is the best for enterprise applications?\n",
            "answer: Java\n",
            "\n",
            "Question: why do you think perl or php is\n"
          ]
        }
      ]
    },
    {
      "cell_type": "code",
      "source": [
        "inference(\"\"\"问题：哪个编程语言是最好的编程语言？\n",
        "答案:\"\"\")"
      ],
      "metadata": {
        "colab": {
          "base_uri": "https://localhost:8080/"
        },
        "id": "vKt4W2oDN172",
        "outputId": "445642e3-b37d-484c-bb6e-2b3b9fddfb43"
      },
      "execution_count": 36,
      "outputs": [
        {
          "output_type": "stream",
          "name": "stdout",
          "text": [
            "问题：哪个编程语言是最好的编程语言？\n",
            "答案:\n",
            "\n",
            "C# 优秀编程语言，\n",
            "C# 语法非常好\n",
            "C# 语法灵活\n",
            "C# 文档是全球的\n",
            "C# 的开�\n"
          ]
        }
      ]
    },
    {
      "cell_type": "code",
      "source": [
        "inference(\"\"\"问题：php是世界上最好的编程语言吗？\n",
        "答案:\"\"\")"
      ],
      "metadata": {
        "colab": {
          "base_uri": "https://localhost:8080/"
        },
        "id": "RohseDcaN4cp",
        "outputId": "42a63e78-aa6c-487a-9137-949d83a45c7b"
      },
      "execution_count": 37,
      "outputs": [
        {
          "output_type": "stream",
          "name": "stdout",
          "text": [
            "问题：php是世界上最好的编程语言吗？\n",
            "答案: 按照统计数据，目前支持百分之三半的框架，与像Python, C#, Java这样的定义，编译语言支\n"
          ]
        }
      ]
    },
    {
      "cell_type": "code",
      "source": [
        "inference(\"\"\"问题：写一个java程序从3个输入数字中获取第二大整数\n",
        "答案:\"\"\", 256)"
      ],
      "metadata": {
        "colab": {
          "base_uri": "https://localhost:8080/"
        },
        "id": "4feg66sTN7op",
        "outputId": "7260f3d3-f6a5-4544-9e0b-5e4d52c7648b"
      },
      "execution_count": 42,
      "outputs": [
        {
          "output_type": "stream",
          "name": "stdout",
          "text": [
            "问题：写一个java程序从3个输入数字中获取第二大整数\n",
            "答案: 1、找出所有三个数的和，找出第二个数；2、使用列表分别添加每一个三个数为单个元素，\n",
            "再找出第二大数。（题目里有教程）\n",
            "\n",
            "```\n",
            "class Solution {\n",
            "    public int Solution(int[] nums) {\n",
            "        int[] nums1=new int[3];\n",
            "        int[] nums2=new int[3];\n",
            "        int[] nums3=new int[3];\n",
            "   \n"
          ]
        }
      ]
    },
    {
      "cell_type": "code",
      "source": [
        "inference( \"\"\"问题：写一个shell程序从输入txt文件中读取最长的string\n",
        "答案:\"\"\", 512)"
      ],
      "metadata": {
        "colab": {
          "base_uri": "https://localhost:8080/"
        },
        "id": "ISWxhUr3N95Q",
        "outputId": "4b501e57-7c30-4d18-c60f-f8d1cfb96a81"
      },
      "execution_count": 41,
      "outputs": [
        {
          "output_type": "stream",
          "name": "stdout",
          "text": [
            "问题：写一个shell程序从输入txt文件中读取最长的string\n",
            "答案:不太有意义，仅仅用于编程\n",
            "说明:从文件中读取的string必须有可能只有最长一个\n",
            "而且，还是读取第一个的,而不是最后一个\n",
            "另外，string有几种不同的序列化形式\n",
            "\n",
            "统计类\n",
            "用进行字符数统计的方法有很多,请放心阅读诸如:\n",
            "\n",
            "http://www.gnu.org/software/gsl/manual/html_node/Statistical-Functions.html\n",
            "http://www.cs.pitt.edu/~greg/cs253/cs253/handout/algorithms.pdf\n",
            "http://en.wikipedia.org/wiki/Algorithms_for_Efficient_Computing_of_Statistical_Functions\n",
            "\n",
            "讨论：\n",
            "\n",
            "- 采用gsl库的函数统计类\n",
            "- 关闭多倍的基准测试\n",
            "- 自由库的自定义基准测试\n",
            "\n",
            "如何统计字符数\n",
            "\n",
            "统计类的方法和关键点\n",
            "\n",
            "字符数统计方法\n",
            "\n",
            "一直用的有统计算法：\n",
            "\n",
            "基准：\n",
            "\n",
            "\n"
          ]
        }
      ]
    },
    {
      "cell_type": "code",
      "source": [
        "inference(\"\"\"问题：写一个css实现渐变紫红色圆角\n",
        "答案:\"\"\", 512)"
      ],
      "metadata": {
        "colab": {
          "base_uri": "https://localhost:8080/"
        },
        "id": "Z6_V_v5VOARN",
        "outputId": "df4f3dee-afd7-4fc2-a7e7-3ba2231df399"
      },
      "execution_count": 43,
      "outputs": [
        {
          "output_type": "stream",
          "name": "stdout",
          "text": [
            "问题：写一个css实现渐变紫红色圆角\n",
            "答案:提供一个css class：.trans-25,阻止渐变的外部扩展,不会影响内部其他功能。\n",
            "```\n",
            "/* 轮播*/\n",
            ".trans-25 {\n",
            "\t-webkit-transform: translate(-25%, -25%);\n",
            "\t-moz-transform: translate(-25%, -25%);\n",
            "\t-ms-transform: translate(-25%, -25%);\n",
            "\t-o-transform: translate(-25%, -25%);\n",
            "\ttransform: translate(-25%, -25%);\n",
            "}\n",
            "```\n",
            "\n",
            "![](http://7xqy8m.bkt.clouddn.com/2017-12-08-170601_15_7_20a_%E5%88%86%E7%BB%93%E6%9C%AC%E6%95%A5.png)\n",
            "\n",
            "#### 资源:\n",
            "[搜索全球布局CSS](http://www.w3.org/Style/CSS/current-work.html#global)\n",
            "\n",
            "---\n",
            "\n",
            "### 四、css选择符\n",
            "\n",
            "> 四种选择符，可以遵守css3。\n",
            "\n",
            "1. 特殊选择符:可以设置属性，类似**{[attr]}**标签。**{[attr]}**不包含任何标签，否则需要开启 **选择符的引擎支持**。\n",
            "\n",
            "```\n",
            ".selector{\n",
            "    [attr]=\"value\"\n",
            "}\n",
            "```\n",
            "\n",
            "2.\n"
          ]
        }
      ]
    },
    {
      "cell_type": "code",
      "source": [
        "inference(\"\"\"问题：写一个SQL来查找data101数据表中名字（name）是“小凡”的所有8月份在上海的消费记录\n",
        "答案:\"\"\")"
      ],
      "metadata": {
        "colab": {
          "base_uri": "https://localhost:8080/"
        },
        "id": "Q_wLN8JkOUEm",
        "outputId": "e729280f-6cac-48ef-bbf5-8fe91f3e5ef2"
      },
      "execution_count": 45,
      "outputs": [
        {
          "output_type": "stream",
          "name": "stdout",
          "text": [
            "问题：写一个SQL来查找data101数据表中名字（name）是“小凡”的所有8月份在上海的消费记录\n",
            "答案:\n",
            "SELECT count(*) FROM (SELECT DATE(created_at) FROM data101.orders WHERE name='小凡')\n",
            "执行过程中，会\n"
          ]
        }
      ]
    },
    {
      "cell_type": "code",
      "source": [
        "inference(\"\"\"\n",
        "问题：写一个网络爬虫去查找网络上举报“小凡”的热心公众号\n",
        "答案:\"\"\", 512)"
      ],
      "metadata": {
        "colab": {
          "base_uri": "https://localhost:8080/"
        },
        "id": "6B-36GrWOZbl",
        "outputId": "1b49af52-b5e6-4dfc-8453-b3e7a69d4540"
      },
      "execution_count": 47,
      "outputs": [
        {
          "output_type": "stream",
          "name": "stdout",
          "text": [
            "\n",
            "问题：写一个网络爬虫去查找网络上举报“小凡”的热心公众号\n",
            "答案:\n",
            "1、搜索“小凡”的热心公众号。\n",
            "2、在热心公众号列表中，右键滑动来进行查看。\n",
            "\n",
            "* [如何实现收到异步消息的最新时间戳和更新消息？](/note/如何实现收到异步消息的最新时间戳和更新消息?.md)\n",
            "<|endoftext|>\n"
          ]
        }
      ]
    },
    {
      "cell_type": "code",
      "source": [
        "inference(\"\"\"Questions: How to find the largest of 5 numbers with python or java?\n",
        "Answer:\"\"\")"
      ],
      "metadata": {
        "colab": {
          "base_uri": "https://localhost:8080/"
        },
        "id": "hOTgYnCAOfdI",
        "outputId": "32c9539e-954f-47ed-ef76-e872d6cb3354"
      },
      "execution_count": 48,
      "outputs": [
        {
          "output_type": "stream",
          "name": "stdout",
          "text": [
            "Questions: How to find the largest of 5 numbers with python or java?\n",
            "Answer:\n",
            "I don't know how to explain this in words, but there is a way to do this using python. See code below:\n",
            "import math\n",
            "\n",
            "nums = [0, 1, 2, 3, 4, 5]\n",
            "\n",
            "def function(nums):\n",
            "    largest_index = -1\n",
            "    sum_of_largest = 0\n",
            "    for i, num in enumerate(nums):\n",
            "        if num > nums[i]:\n",
            " \n"
          ]
        }
      ]
    },
    {
      "cell_type": "code",
      "source": [
        "inference(\"\"\"问题：小刚是小明的朋友，小刚还是小花的朋友。小刚的朋友是谁？\n",
        "答案：小明和小花。\n",
        "\n",
        "问题：小刚是小明的朋友，小明不喜欢小花。小花喜欢谁？\n",
        "答案：可能是小刚，也可能是小明。\n",
        "\n",
        "问题：小凡喜欢在外面鬼混。小花还很喜欢小凡。谁是坏人？\n",
        "答案：\"\"\", 512)"
      ],
      "metadata": {
        "colab": {
          "base_uri": "https://localhost:8080/"
        },
        "id": "kbnka7rKOiwf",
        "outputId": "0add68e8-7abb-400b-a37a-d6c924309d28"
      },
      "execution_count": 53,
      "outputs": [
        {
          "output_type": "stream",
          "name": "stdout",
          "text": [
            "问题：小刚是小明的朋友，小刚还是小花的朋友。小刚的朋友是谁？\n",
            "答案：小明和小花。\n",
            "\n",
            "问题：小刚是小明的朋友，小明不喜欢小花。小花喜欢谁？\n",
            "答案：可能是小刚，也可能是小明。\n",
            "\n",
            "问题：小凡喜欢在外面鬼混。小花还很喜欢小凡。谁是坏人？\n",
            "答案：有点儿是小花和小刚。\n",
            "\n",
            "## 三、顾赞\n",
            "\n",
            "### 【顾赞】小明和小花争夺比赛最终得主要限制赛场\n",
            "\n",
            "> 提示：小明和小花争夺比赛最终得主要限制赛场\n",
            "\n",
            "第一章大赛完善以后，阿西德骑手赛最终得主要限制赛场的原因是谁。因为谁是主观比赛的原始代表。赛场组件的局部性更具指导�\n"
          ]
        }
      ]
    },
    {
      "cell_type": "code",
      "source": [
        "inference(\"\"\"问题：小刚是小明的朋友，小明不喜欢小花。小花喜欢谁？\n",
        "答案：\"\"\")"
      ],
      "metadata": {
        "colab": {
          "base_uri": "https://localhost:8080/"
        },
        "id": "g6eY3tNEOyW1",
        "outputId": "ca4fd784-9d09-4003-cd75-776338aaf9c0"
      },
      "execution_count": 54,
      "outputs": [
        {
          "output_type": "stream",
          "name": "stdout",
          "text": [
            "问题：小刚是小明的朋友，小明不喜欢小花。小花喜欢谁？\n",
            "答案：小刚。\n",
            "\n",
            "```python\n",
            "#!/usr/bin/env python\n",
            "# coding:utf-8\n",
            "\n",
            "'''\n",
            "Created on 2016年8月3日\n",
            "@author: Irony\n",
            "'''\n",
            "\n",
            "from pinyin import Pinyin,\n"
          ]
        }
      ]
    },
    {
      "cell_type": "code",
      "source": [
        "inference(\"\"\"问题：小刚是小明的朋友，小明不喜欢小花。小花喜欢谁？\n",
        "答案：\"\"\")"
      ],
      "metadata": {
        "colab": {
          "base_uri": "https://localhost:8080/"
        },
        "id": "T2n6Rt0fO6D9",
        "outputId": "1604d02c-df53-4407-afce-4447d75ea0bb"
      },
      "execution_count": 55,
      "outputs": [
        {
          "output_type": "stream",
          "name": "stdout",
          "text": [
            "问题：小刚是小明的朋友，小明不喜欢小花。小花喜欢谁？\n",
            "答案：小明\n",
            "小刚说他爱谁？小明说他爱谁？小花说他爱谁？\n",
            "问题\n"
          ]
        }
      ]
    },
    {
      "cell_type": "code",
      "source": [
        "inference(\"\"\"\n",
        "问题：小明和小花是朋友。但是小花更喜欢小凡。小明就很讨厌小凡，告诉小花其实小凡是牙签。请问谁是牙签？\n",
        "答案：\"\"\")"
      ],
      "metadata": {
        "colab": {
          "base_uri": "https://localhost:8080/"
        },
        "id": "opjZ-7luO8iZ",
        "outputId": "66efd9b6-7106-40ed-ce64-d5d49fa55986"
      },
      "execution_count": 56,
      "outputs": [
        {
          "output_type": "stream",
          "name": "stdout",
          "text": [
            "\n",
            "问题：小明和小花是朋友。但是小花更喜欢小凡。小明就很讨厌小凡，告诉小花其实小凡是牙签。请问谁是牙签？\n",
            "答案：让小明看看自\n"
          ]
        }
      ]
    },
    {
      "cell_type": "code",
      "source": [
        "inference(\"\"\"问题：写一个java的测试文件来测试一个palindrome的算法\n",
        "答案：\"\"\", 512)"
      ],
      "metadata": {
        "colab": {
          "base_uri": "https://localhost:8080/"
        },
        "id": "4sxW9f_uO_np",
        "outputId": "08fe53a7-ddd1-4375-8b87-dc39d3e06016"
      },
      "execution_count": 57,
      "outputs": [
        {
          "output_type": "stream",
          "name": "stdout",
          "text": [
            "问题：写一个java的测试文件来测试一个palindrome的算法\n",
            "答案：用那个Java的测试文件\n",
            "```\n",
            "import java.util.*;\n",
            "\n",
            "public class Palindrome {\n",
            "    public static void main(String[] args) {\n",
            "        Scanner scanner = new Scanner(System.in);\n",
            "        //请提供一个String字符串，该字符串对应着一个字母的星号\n",
            "        String str = scanner.nextLine();\n",
            "        String reversedStr = new String();\n",
            "        for (int i = str.length(); i > 0; i--) {\n",
            "            reversedStr = reversedStr + str.charAt(i);\n",
            "        }\n",
            "        System.out.println(str + \" \" + reversedStr);\n",
            "    }\n",
            "}\n",
            "```\n",
            "\n",
            "# 第12题\n",
            "```java\n",
            "/**\n",
            "*   先在一个包内打开一个文件\n",
            "*   接着就是要找出被包含在文件中的具体内容\n",
            "*   当存储在文件中的具体内容为某个字符串，那么就说是一个非规则字符串\n",
            "*   说到这里可能导致一种想法是可以用于包含非规则的�\n"
          ]
        }
      ]
    },
    {
      "cell_type": "code",
      "source": [
        "inference(\"\"\"问题：用python写一个程序，能得到输入的三个数中间的那个数字\n",
        "答案：\"\"\")"
      ],
      "metadata": {
        "colab": {
          "base_uri": "https://localhost:8080/"
        },
        "id": "3rDOhvtkPCFg",
        "outputId": "317a3f85-bda5-42c0-ba40-c6be8575aa99"
      },
      "execution_count": 58,
      "outputs": [
        {
          "output_type": "stream",
          "name": "stdout",
          "text": [
            "问题：用python写一个程序，能得到输入的三个数中间的那个数字\n",
            "答案：先将三个数字进行预处理\n",
            "先将三个数字预处理\n",
            "输入：(5,7,6)\n",
            "输出：(\n"
          ]
        }
      ]
    },
    {
      "cell_type": "code",
      "source": [
        "inference(\"\"\"问题：编写一个python程序从3个输入数字中获取第二大整数\n",
        "回答：```python\n",
        "def middle_number(a, b, c):\n",
        "    return sorted([a,b,c])[1]\n",
        "```\n",
        "\n",
        "问题：编写一个python程序，从6个输入数字中得到第4大的浮点数\n",
        "回答：\"\"\", 512)"
      ],
      "metadata": {
        "colab": {
          "base_uri": "https://localhost:8080/"
        },
        "id": "9ZRhSMwyPEjc",
        "outputId": "5d7d3974-cd95-42a4-b745-fd8364fe3b69"
      },
      "execution_count": 59,
      "outputs": [
        {
          "output_type": "stream",
          "name": "stdout",
          "text": [
            "问题：编写一个python程序从3个输入数字中获取第二大整数\n",
            "回答：```python\n",
            "def middle_number(a, b, c):\n",
            "    return sorted([a,b,c])[1]\n",
            "```\n",
            "\n",
            "问题：编写一个python程序，从6个输入数字中得到第4大的浮点数\n",
            "回答：```python\n",
            "def middle_floating(a, b, c, d, e, f):\n",
            "    return round(sum(float(x) for x in [a,b,c,d,e,f]) / 6,2)\n",
            "```\n",
            "\n",
            "问题：编写一个python程序从4个输入数字中得到第3大的浮点数\n",
            "回答：```python\n",
            "def middle_floating(a, b, c, d, e):\n",
            "    return round(sum(float(x) for x in [a,b,c,d,e]) / 4,2)\n",
            "```\n",
            "\n",
            "## 列表的深度\n",
            "\n",
            "![](images/list-deep.png)\n",
            "\n",
            "## 列表的度\n",
            "\n",
            "![](images/list-flat.png)\n",
            "\n",
            "# 数据结构\n",
            "\n",
            "## 列表\n",
            "\n",
            "### 合并的点称为拖放\n",
            "\n",
            "![](images/list-dbl.png)\n",
            "\n",
            "### 列表的顺序称为顺序\n",
            "\n",
            "![](images/list-sort.png)\n",
            "\n",
            "### 保存排序的顺序信息�\n"
          ]
        }
      ]
    },
    {
      "cell_type": "code",
      "source": [
        "inference(\"\"\"Question: write a python program to get 2nd largest integer from 3 input numbers\n",
        "Answer: ```python\n",
        "def middle_number(a, b, c):\n",
        "    return sorted([a,b,c])[1]\n",
        "```\n",
        "\n",
        "Question: write a python program to get the 4th largest float from 6 input numbers\n",
        "Answer: \n",
        "\"\"\")"
      ],
      "metadata": {
        "colab": {
          "base_uri": "https://localhost:8080/"
        },
        "id": "-zYhSZtaPJQ6",
        "outputId": "a91288d9-7bbc-4e2e-b28e-578118d23ad5"
      },
      "execution_count": 60,
      "outputs": [
        {
          "output_type": "stream",
          "name": "stdout",
          "text": [
            "Question: write a python program to get 2nd largest integer from 3 input numbers\n",
            "Answer: ```python\n",
            "def middle_number(a, b, c):\n",
            "    return sorted([a,b,c])[1]\n",
            "```\n",
            "\n",
            "Question: write a python program to get the 4th largest float from 6 input numbers\n",
            "Answer: \n",
            "```python\n",
            "def fourth_largest_float(a, b, c, d, e, f):\n",
            "    return (float(a) + float(b) + float(c) + float(d) + float(\n"
          ]
        }
      ]
    },
    {
      "cell_type": "code",
      "source": [
        "inference(\"\"\"问题：用python写一个程序，能得到输入的三个数排名第二的那个数字\n",
        "答案：```python\n",
        "def middle_number(a, b, c):\n",
        "    return sorted([a,b,c])[1]\n",
        "```\n",
        "\n",
        "问题：用python写一个程序，能得到输入的五个数中排名倒数第二的那个数字\n",
        "答案：\n",
        "\"\"\")"
      ],
      "metadata": {
        "colab": {
          "base_uri": "https://localhost:8080/"
        },
        "id": "9s91kPrgPO9k",
        "outputId": "94acc3e4-1bea-40c0-d8f4-3557b0f72ed2"
      },
      "execution_count": 61,
      "outputs": [
        {
          "output_type": "stream",
          "name": "stderr",
          "text": [
            "Input length of input_ids is 183, but `max_length` is set to 128. This can lead to unexpected behavior. You should consider increasing `max_new_tokens`.\n"
          ]
        },
        {
          "output_type": "stream",
          "name": "stdout",
          "text": [
            "问题：用python写一个程序，能得到输入的三个数排名第二的那个数字\n",
            "答案：```python\n",
            "def middle_number(a, b, c):\n",
            "    return sorted([a,b,c])[1]\n",
            "```\n",
            "\n",
            "问题：用python写一个程序，能得到输入的五个数中排名倒数第二的那个数字\n",
            "答案：\n",
            "``\n"
          ]
        }
      ]
    },
    {
      "cell_type": "code",
      "source": [
        "inference(\"\"\"问题：写一个SQL来选择一个名叫people的表格里面除了name字段的所有其他内容\n",
        "答案：\"\"\", 512)"
      ],
      "metadata": {
        "colab": {
          "base_uri": "https://localhost:8080/"
        },
        "id": "NSeF6OdsPVFc",
        "outputId": "5ca2a974-daad-48fe-e119-c71e591f08e9"
      },
      "execution_count": 63,
      "outputs": [
        {
          "output_type": "stream",
          "name": "stdout",
          "text": [
            "问题：写一个SQL来选择一个名叫people的表格里面除了name字段的所有其他内容\n",
            "答案：SELECT DISTINCT name, phone\n",
            "\n",
            "A:\n",
            "\n",
            "SELECT DISTINCT 可以用来提高查询性能。\n",
            "通过先定义好的groupBy分组字段，然后实现聚合（聚合字段为最后的聚合），这样就能更好的查询数据。\n",
            "参数是groupBy的字段\n",
            "SELECT DISTINCT `groupby`.*\n",
            "FROM `people`\n",
            "GROUP BY `people`.`groupby`\n",
            "\n",
            "除此之外，如果不能定义好的分组字段，可以使用下面这个规则：\n",
            "SELECT *\n",
            "FROM `people`\n",
            "WHERE `people`.`name` LIKE '%John%'\n",
            "  AND `people`.`name` LIKE '%Smith%'\n",
            "GROUP BY `people`.`name`\n",
            "\n",
            "下面是另一个例子：\n",
            "SELECT `groupby`.*\n",
            "FROM `people`\n",
            "WHERE `people`.`name` = 'John'\n",
            "  AND `people`.`name` = 'Smith'\n",
            "GROUP BY `people`.`name`\n",
            "\n",
            "练习题目：\n",
            "\n",
            "Q：写一个SQL来选择一个名叫people的表格里面除了name字段的所有内容\n",
            "A：SELECT\n"
          ]
        }
      ]
    },
    {
      "cell_type": "code",
      "source": [
        "inference(\"\"\"问题：写一个SQL来选择一个名叫people的表格里面除了name字段的所有其他内容\n",
        "答案：SELECT * EXCEPT (name) FROM people\n",
        "\n",
        "问题：写一个SQL来选择一个名叫biz的表格里面除了price和quantity以外的所有其他内容，并限制在9月份\n",
        "答案：\"\"\", 512)"
      ],
      "metadata": {
        "colab": {
          "base_uri": "https://localhost:8080/"
        },
        "id": "ZgPEMjYzPa3g",
        "outputId": "5b66b4b7-c8a6-482f-b870-e080ed17b912"
      },
      "execution_count": 66,
      "outputs": [
        {
          "output_type": "stream",
          "name": "stdout",
          "text": [
            "问题：写一个SQL来选择一个名叫people的表格里面除了name字段的所有其他内容\n",
            "答案：SELECT * EXCEPT (name) FROM people\n",
            "\n",
            "问题：写一个SQL来选择一个名叫biz的表格里面除了price和quantity以外的所有其他内容，并限制在9月份\n",
            "答案：SELECT * FROM biz WHERE date_format(created, '%Y-%m-%d') BETWEEN '2016-09-01' and '2017-09-01'\n",
            "\n",
            "## 使用MySQL函数的问题：\n",
            "\n",
            "问题：写一个SQL来选择一个名叫people的表格里面除了name字段的所有其他内容\n",
            "\n",
            "答案：SELECT * FROM people WHERE (NOT EXISTS(SELECT NULL FROM (SELECT * FROM people) AS T) AND name!= '');\n",
            "\n",
            "```\n",
            "\n",
            "最后，我再来说一下基础数据库语言，是指数据库语言，这类语言最基本的东西就是数据库。这个类语言提供了两种方式来访问数据库：\n",
            "\n",
            "**用字符串标识的方式**：这�\n"
          ]
        }
      ]
    },
    {
      "cell_type": "code",
      "source": [
        "inference(\"\"\"how to explain euler's formula?\"\"\")"
      ],
      "metadata": {
        "colab": {
          "base_uri": "https://localhost:8080/"
        },
        "id": "7Z-x2hOwPdOj",
        "outputId": "b699c3c2-eeb1-4c25-89bb-0071ba4f4e3e"
      },
      "execution_count": 67,
      "outputs": [
        {
          "output_type": "stream",
          "name": "stdout",
          "text": [
            "how to explain euler's formula?\n",
            "\n",
            "What would be the most straightforward way to explain Euler's Formula to a friend who has little knowledge of mathematics, how the formula is useful, and why it is true?\n",
            "\n",
            "A:\n",
            "\n",
            "It is true because it is the \"simplest\" formula that represents the exponential function\n",
            "as a \"power series\", ie. an infinite series of the form:\n",
            "$$f(x)=\\sum_{n=0}^\\infty a_n \\cdot x^n$$\n",
            "This series converges only for $|x|<1$ as it\n"
          ]
        }
      ]
    }
  ]
}